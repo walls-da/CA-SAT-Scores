{
 "cells": [
  {
   "cell_type": "markdown",
   "id": "6e5e09d4-780d-48a1-8d3f-54b1f79516f4",
   "metadata": {},
   "source": [
    "# Exploring Relationships: CA Districts"
   ]
  },
  {
   "cell_type": "markdown",
   "id": "f057e5f0-5bbd-4508-b38e-19faa603ac27",
   "metadata": {},
   "source": [
    "## Contents:\n",
    "1. Imports\n",
    "2. Exploring Relationships\n",
    "3. Summary\n",
    "4. Exports"
   ]
  },
  {
   "cell_type": "markdown",
   "id": "fbd8d3a5-d4a4-4188-9fa2-7970a3cdddc0",
   "metadata": {
    "jp-MarkdownHeadingCollapsed": true
   },
   "source": [
    "### 1. Imports"
   ]
  },
  {
   "cell_type": "code",
   "execution_count": 1,
   "id": "1fdd8ed3-baf4-41f6-879c-e0cd53fa18f5",
   "metadata": {},
   "outputs": [],
   "source": [
    "# Import libraries \n",
    "\n",
    "import pandas as pd\n",
    "import numpy as np\n",
    "import seaborn as sns\n",
    "import matplotlib.pyplot as plt\n",
    "import matplotlib\n",
    "import os"
   ]
  },
  {
   "cell_type": "code",
   "execution_count": 2,
   "id": "7e42a2c7-92f6-46e5-9092-627c845fe102",
   "metadata": {},
   "outputs": [],
   "source": [
    "# Defining path and importing df\n",
    "\n",
    "path = r'C:\\Users\\walls\\Documents\\Coding\\Data Analysis\\CareerFoundry\\Data Immersion A6\\CA SAT Analysis'\n",
    "\n",
    "# districts only dataframe\n",
    "df_districts = pd.read_csv(os.path.join(path, 'Data', 'Prepared Data', 'SAT_Report_Districts.csv'), index_col = False) #previously df_record_d"
   ]
  },
  {
   "cell_type": "code",
   "execution_count": 3,
   "id": "aeb96dea-c1bd-4a0c-b095-cdeb10eeef3c",
   "metadata": {},
   "outputs": [
    {
     "data": {
      "text/html": [
       "<div>\n",
       "<style scoped>\n",
       "    .dataframe tbody tr th:only-of-type {\n",
       "        vertical-align: middle;\n",
       "    }\n",
       "\n",
       "    .dataframe tbody tr th {\n",
       "        vertical-align: top;\n",
       "    }\n",
       "\n",
       "    .dataframe thead th {\n",
       "        text-align: right;\n",
       "    }\n",
       "</style>\n",
       "<table border=\"1\" class=\"dataframe\">\n",
       "  <thead>\n",
       "    <tr style=\"text-align: right;\">\n",
       "      <th></th>\n",
       "      <th>Unnamed: 0</th>\n",
       "      <th>index</th>\n",
       "      <th>cds_code</th>\n",
       "      <th>record_type</th>\n",
       "      <th>school</th>\n",
       "      <th>district</th>\n",
       "      <th>county</th>\n",
       "      <th>enroll12</th>\n",
       "      <th>test_takers</th>\n",
       "      <th>avg_scr_read</th>\n",
       "      <th>avg_scr_math</th>\n",
       "      <th>avg_scr_writ</th>\n",
       "      <th>scr&gt;1500</th>\n",
       "      <th>percentage</th>\n",
       "      <th>year</th>\n",
       "    </tr>\n",
       "  </thead>\n",
       "  <tbody>\n",
       "    <tr>\n",
       "      <th>0</th>\n",
       "      <td>2</td>\n",
       "      <td>2</td>\n",
       "      <td>1.100170e+12</td>\n",
       "      <td>D</td>\n",
       "      <td>NaN</td>\n",
       "      <td>Alameda County Office of Education</td>\n",
       "      <td>Alameda</td>\n",
       "      <td>263</td>\n",
       "      <td>95</td>\n",
       "      <td>395.0</td>\n",
       "      <td>378.0</td>\n",
       "      <td>388.0</td>\n",
       "      <td>6.0</td>\n",
       "      <td>6.32</td>\n",
       "      <td>FY16</td>\n",
       "    </tr>\n",
       "    <tr>\n",
       "      <th>1</th>\n",
       "      <td>4</td>\n",
       "      <td>4</td>\n",
       "      <td>1.611190e+12</td>\n",
       "      <td>D</td>\n",
       "      <td>NaN</td>\n",
       "      <td>Alameda Unified</td>\n",
       "      <td>Alameda</td>\n",
       "      <td>858</td>\n",
       "      <td>472</td>\n",
       "      <td>527.0</td>\n",
       "      <td>543.0</td>\n",
       "      <td>514.0</td>\n",
       "      <td>301.0</td>\n",
       "      <td>63.77</td>\n",
       "      <td>FY16</td>\n",
       "    </tr>\n",
       "    <tr>\n",
       "      <th>2</th>\n",
       "      <td>11</td>\n",
       "      <td>11</td>\n",
       "      <td>1.611270e+12</td>\n",
       "      <td>D</td>\n",
       "      <td>NaN</td>\n",
       "      <td>Albany City Unified</td>\n",
       "      <td>Alameda</td>\n",
       "      <td>300</td>\n",
       "      <td>179</td>\n",
       "      <td>585.0</td>\n",
       "      <td>607.0</td>\n",
       "      <td>575.0</td>\n",
       "      <td>148.0</td>\n",
       "      <td>82.68</td>\n",
       "      <td>FY16</td>\n",
       "    </tr>\n",
       "    <tr>\n",
       "      <th>3</th>\n",
       "      <td>13</td>\n",
       "      <td>13</td>\n",
       "      <td>1.611430e+12</td>\n",
       "      <td>D</td>\n",
       "      <td>NaN</td>\n",
       "      <td>Berkeley Unified</td>\n",
       "      <td>Alameda</td>\n",
       "      <td>922</td>\n",
       "      <td>542</td>\n",
       "      <td>561.0</td>\n",
       "      <td>559.0</td>\n",
       "      <td>553.0</td>\n",
       "      <td>357.0</td>\n",
       "      <td>65.87</td>\n",
       "      <td>FY16</td>\n",
       "    </tr>\n",
       "    <tr>\n",
       "      <th>4</th>\n",
       "      <td>16</td>\n",
       "      <td>16</td>\n",
       "      <td>1.611500e+12</td>\n",
       "      <td>D</td>\n",
       "      <td>NaN</td>\n",
       "      <td>Castro Valley Unified</td>\n",
       "      <td>Alameda</td>\n",
       "      <td>789</td>\n",
       "      <td>411</td>\n",
       "      <td>535.0</td>\n",
       "      <td>558.0</td>\n",
       "      <td>531.0</td>\n",
       "      <td>264.0</td>\n",
       "      <td>64.23</td>\n",
       "      <td>FY16</td>\n",
       "    </tr>\n",
       "  </tbody>\n",
       "</table>\n",
       "</div>"
      ],
      "text/plain": [
       "   Unnamed: 0  index      cds_code record_type  school  \\\n",
       "0           2      2  1.100170e+12           D     NaN   \n",
       "1           4      4  1.611190e+12           D     NaN   \n",
       "2          11     11  1.611270e+12           D     NaN   \n",
       "3          13     13  1.611430e+12           D     NaN   \n",
       "4          16     16  1.611500e+12           D     NaN   \n",
       "\n",
       "                             district   county  enroll12  test_takers  \\\n",
       "0  Alameda County Office of Education  Alameda       263           95   \n",
       "1                     Alameda Unified  Alameda       858          472   \n",
       "2                 Albany City Unified  Alameda       300          179   \n",
       "3                    Berkeley Unified  Alameda       922          542   \n",
       "4               Castro Valley Unified  Alameda       789          411   \n",
       "\n",
       "   avg_scr_read  avg_scr_math  avg_scr_writ  scr>1500  percentage  year  \n",
       "0         395.0         378.0         388.0       6.0        6.32  FY16  \n",
       "1         527.0         543.0         514.0     301.0       63.77  FY16  \n",
       "2         585.0         607.0         575.0     148.0       82.68  FY16  \n",
       "3         561.0         559.0         553.0     357.0       65.87  FY16  \n",
       "4         535.0         558.0         531.0     264.0       64.23  FY16  "
      ]
     },
     "execution_count": 3,
     "metadata": {},
     "output_type": "execute_result"
    }
   ],
   "source": [
    "df_districts.head()"
   ]
  },
  {
   "cell_type": "code",
   "execution_count": 4,
   "id": "4fc1dbf6-6507-4d0c-b599-eb5ffa53cdb3",
   "metadata": {},
   "outputs": [],
   "source": [
    "# Change cds_code to string\n",
    "\n",
    "df_districts['cds_code'] = df_districts['cds_code'].astype(str)\n",
    "df_districts['school'] = df_districts['school'].astype(str)"
   ]
  },
  {
   "cell_type": "code",
   "execution_count": 5,
   "id": "25a0e3cc-3c98-4ac3-8f9f-bf4f9847e8eb",
   "metadata": {},
   "outputs": [
    {
     "data": {
      "text/html": [
       "<div>\n",
       "<style scoped>\n",
       "    .dataframe tbody tr th:only-of-type {\n",
       "        vertical-align: middle;\n",
       "    }\n",
       "\n",
       "    .dataframe tbody tr th {\n",
       "        vertical-align: top;\n",
       "    }\n",
       "\n",
       "    .dataframe thead th {\n",
       "        text-align: right;\n",
       "    }\n",
       "</style>\n",
       "<table border=\"1\" class=\"dataframe\">\n",
       "  <thead>\n",
       "    <tr style=\"text-align: right;\">\n",
       "      <th></th>\n",
       "      <th>Unnamed: 0</th>\n",
       "      <th>index</th>\n",
       "      <th>cds_code</th>\n",
       "      <th>record_type</th>\n",
       "      <th>school</th>\n",
       "      <th>district</th>\n",
       "      <th>county</th>\n",
       "      <th>enroll12</th>\n",
       "      <th>test_takers</th>\n",
       "      <th>avg_scr_read</th>\n",
       "      <th>avg_scr_math</th>\n",
       "      <th>avg_scr_writ</th>\n",
       "      <th>scr&gt;1500</th>\n",
       "      <th>percentage</th>\n",
       "      <th>year</th>\n",
       "    </tr>\n",
       "  </thead>\n",
       "  <tbody>\n",
       "    <tr>\n",
       "      <th>0</th>\n",
       "      <td>2</td>\n",
       "      <td>2</td>\n",
       "      <td>1100170000000.0</td>\n",
       "      <td>D</td>\n",
       "      <td>nan</td>\n",
       "      <td>Alameda County Office of Education</td>\n",
       "      <td>Alameda</td>\n",
       "      <td>263</td>\n",
       "      <td>95</td>\n",
       "      <td>395.0</td>\n",
       "      <td>378.0</td>\n",
       "      <td>388.0</td>\n",
       "      <td>6.0</td>\n",
       "      <td>6.32</td>\n",
       "      <td>FY16</td>\n",
       "    </tr>\n",
       "    <tr>\n",
       "      <th>1</th>\n",
       "      <td>4</td>\n",
       "      <td>4</td>\n",
       "      <td>1611190000000.0</td>\n",
       "      <td>D</td>\n",
       "      <td>nan</td>\n",
       "      <td>Alameda Unified</td>\n",
       "      <td>Alameda</td>\n",
       "      <td>858</td>\n",
       "      <td>472</td>\n",
       "      <td>527.0</td>\n",
       "      <td>543.0</td>\n",
       "      <td>514.0</td>\n",
       "      <td>301.0</td>\n",
       "      <td>63.77</td>\n",
       "      <td>FY16</td>\n",
       "    </tr>\n",
       "    <tr>\n",
       "      <th>2</th>\n",
       "      <td>11</td>\n",
       "      <td>11</td>\n",
       "      <td>1611270000000.0</td>\n",
       "      <td>D</td>\n",
       "      <td>nan</td>\n",
       "      <td>Albany City Unified</td>\n",
       "      <td>Alameda</td>\n",
       "      <td>300</td>\n",
       "      <td>179</td>\n",
       "      <td>585.0</td>\n",
       "      <td>607.0</td>\n",
       "      <td>575.0</td>\n",
       "      <td>148.0</td>\n",
       "      <td>82.68</td>\n",
       "      <td>FY16</td>\n",
       "    </tr>\n",
       "    <tr>\n",
       "      <th>3</th>\n",
       "      <td>13</td>\n",
       "      <td>13</td>\n",
       "      <td>1611430000000.0</td>\n",
       "      <td>D</td>\n",
       "      <td>nan</td>\n",
       "      <td>Berkeley Unified</td>\n",
       "      <td>Alameda</td>\n",
       "      <td>922</td>\n",
       "      <td>542</td>\n",
       "      <td>561.0</td>\n",
       "      <td>559.0</td>\n",
       "      <td>553.0</td>\n",
       "      <td>357.0</td>\n",
       "      <td>65.87</td>\n",
       "      <td>FY16</td>\n",
       "    </tr>\n",
       "    <tr>\n",
       "      <th>4</th>\n",
       "      <td>16</td>\n",
       "      <td>16</td>\n",
       "      <td>1611500000000.0</td>\n",
       "      <td>D</td>\n",
       "      <td>nan</td>\n",
       "      <td>Castro Valley Unified</td>\n",
       "      <td>Alameda</td>\n",
       "      <td>789</td>\n",
       "      <td>411</td>\n",
       "      <td>535.0</td>\n",
       "      <td>558.0</td>\n",
       "      <td>531.0</td>\n",
       "      <td>264.0</td>\n",
       "      <td>64.23</td>\n",
       "      <td>FY16</td>\n",
       "    </tr>\n",
       "  </tbody>\n",
       "</table>\n",
       "</div>"
      ],
      "text/plain": [
       "   Unnamed: 0  index         cds_code record_type school  \\\n",
       "0           2      2  1100170000000.0           D    nan   \n",
       "1           4      4  1611190000000.0           D    nan   \n",
       "2          11     11  1611270000000.0           D    nan   \n",
       "3          13     13  1611430000000.0           D    nan   \n",
       "4          16     16  1611500000000.0           D    nan   \n",
       "\n",
       "                             district   county  enroll12  test_takers  \\\n",
       "0  Alameda County Office of Education  Alameda       263           95   \n",
       "1                     Alameda Unified  Alameda       858          472   \n",
       "2                 Albany City Unified  Alameda       300          179   \n",
       "3                    Berkeley Unified  Alameda       922          542   \n",
       "4               Castro Valley Unified  Alameda       789          411   \n",
       "\n",
       "   avg_scr_read  avg_scr_math  avg_scr_writ  scr>1500  percentage  year  \n",
       "0         395.0         378.0         388.0       6.0        6.32  FY16  \n",
       "1         527.0         543.0         514.0     301.0       63.77  FY16  \n",
       "2         585.0         607.0         575.0     148.0       82.68  FY16  \n",
       "3         561.0         559.0         553.0     357.0       65.87  FY16  \n",
       "4         535.0         558.0         531.0     264.0       64.23  FY16  "
      ]
     },
     "execution_count": 5,
     "metadata": {},
     "output_type": "execute_result"
    }
   ],
   "source": [
    "df_districts.head()"
   ]
  },
  {
   "cell_type": "code",
   "execution_count": 6,
   "id": "138f8f01-9df0-47f4-8b49-6a72373fd47f",
   "metadata": {},
   "outputs": [
    {
     "data": {
      "text/plain": [
       "(421, 15)"
      ]
     },
     "execution_count": 6,
     "metadata": {},
     "output_type": "execute_result"
    }
   ],
   "source": [
    "df_districts.shape"
   ]
  },
  {
   "cell_type": "code",
   "execution_count": 7,
   "id": "ca75102a-c81c-4eb2-96f4-0295a539d866",
   "metadata": {},
   "outputs": [
    {
     "data": {
      "text/plain": [
       "Unnamed: 0        int64\n",
       "index             int64\n",
       "cds_code         object\n",
       "record_type      object\n",
       "school           object\n",
       "district         object\n",
       "county           object\n",
       "enroll12          int64\n",
       "test_takers       int64\n",
       "avg_scr_read    float64\n",
       "avg_scr_math    float64\n",
       "avg_scr_writ    float64\n",
       "scr>1500        float64\n",
       "percentage      float64\n",
       "year             object\n",
       "dtype: object"
      ]
     },
     "execution_count": 7,
     "metadata": {},
     "output_type": "execute_result"
    }
   ],
   "source": [
    "df_districts.dtypes"
   ]
  },
  {
   "cell_type": "markdown",
   "id": "f3ca05cc-1ebf-4b65-8afc-7ab4481a4857",
   "metadata": {},
   "source": [
    "### 2. Exploring Relationships"
   ]
  },
  {
   "cell_type": "markdown",
   "id": "ce174f61-6917-45f0-bf42-37432fc98a26",
   "metadata": {},
   "source": [
    "#### Categorical Plot"
   ]
  },
  {
   "cell_type": "markdown",
   "id": "8eda4e6c-4a8c-4600-bca6-96ea90c90d33",
   "metadata": {},
   "source": [
    "##### Deriving a new variable to use as categorical"
   ]
  },
  {
   "cell_type": "code",
   "execution_count": 8,
   "id": "fa3df88c-f033-47e8-bb04-83ee1a8e14d9",
   "metadata": {},
   "outputs": [],
   "source": [
    "# Create numerical subset of df_record_d to see only disctric data\n",
    "numeric_record_d = df_districts.select_dtypes(include=[np.number])\n",
    "\n",
    "# Removing index and percentage (irrelevant data)\n",
    "numeric_record_d.drop(['index', 'percentage'], axis=1, inplace=True)"
   ]
  },
  {
   "cell_type": "code",
   "execution_count": 9,
   "id": "084f57fc-52b2-4b8b-8d0b-0af5595d61d3",
   "metadata": {},
   "outputs": [
    {
     "data": {
      "text/plain": [
       "Unnamed: 0        int64\n",
       "enroll12          int64\n",
       "test_takers       int64\n",
       "avg_scr_read    float64\n",
       "avg_scr_math    float64\n",
       "avg_scr_writ    float64\n",
       "scr>1500        float64\n",
       "dtype: object"
      ]
     },
     "execution_count": 9,
     "metadata": {},
     "output_type": "execute_result"
    }
   ],
   "source": [
    "numeric_record_d.dtypes"
   ]
  },
  {
   "cell_type": "code",
   "execution_count": 10,
   "id": "d23a4ffd-d2c9-47b6-96b0-18dd125bc9a5",
   "metadata": {},
   "outputs": [
    {
     "data": {
      "text/html": [
       "<div>\n",
       "<style scoped>\n",
       "    .dataframe tbody tr th:only-of-type {\n",
       "        vertical-align: middle;\n",
       "    }\n",
       "\n",
       "    .dataframe tbody tr th {\n",
       "        vertical-align: top;\n",
       "    }\n",
       "\n",
       "    .dataframe thead th {\n",
       "        text-align: right;\n",
       "    }\n",
       "</style>\n",
       "<table border=\"1\" class=\"dataframe\">\n",
       "  <thead>\n",
       "    <tr style=\"text-align: right;\">\n",
       "      <th></th>\n",
       "      <th>Unnamed: 0</th>\n",
       "      <th>enroll12</th>\n",
       "      <th>test_takers</th>\n",
       "      <th>avg_scr_read</th>\n",
       "      <th>avg_scr_math</th>\n",
       "      <th>avg_scr_writ</th>\n",
       "      <th>scr&gt;1500</th>\n",
       "    </tr>\n",
       "  </thead>\n",
       "  <tbody>\n",
       "    <tr>\n",
       "      <th>0</th>\n",
       "      <td>2</td>\n",
       "      <td>263</td>\n",
       "      <td>95</td>\n",
       "      <td>395.0</td>\n",
       "      <td>378.0</td>\n",
       "      <td>388.0</td>\n",
       "      <td>6.0</td>\n",
       "    </tr>\n",
       "    <tr>\n",
       "      <th>1</th>\n",
       "      <td>4</td>\n",
       "      <td>858</td>\n",
       "      <td>472</td>\n",
       "      <td>527.0</td>\n",
       "      <td>543.0</td>\n",
       "      <td>514.0</td>\n",
       "      <td>301.0</td>\n",
       "    </tr>\n",
       "    <tr>\n",
       "      <th>2</th>\n",
       "      <td>11</td>\n",
       "      <td>300</td>\n",
       "      <td>179</td>\n",
       "      <td>585.0</td>\n",
       "      <td>607.0</td>\n",
       "      <td>575.0</td>\n",
       "      <td>148.0</td>\n",
       "    </tr>\n",
       "    <tr>\n",
       "      <th>3</th>\n",
       "      <td>13</td>\n",
       "      <td>922</td>\n",
       "      <td>542</td>\n",
       "      <td>561.0</td>\n",
       "      <td>559.0</td>\n",
       "      <td>553.0</td>\n",
       "      <td>357.0</td>\n",
       "    </tr>\n",
       "    <tr>\n",
       "      <th>4</th>\n",
       "      <td>16</td>\n",
       "      <td>789</td>\n",
       "      <td>411</td>\n",
       "      <td>535.0</td>\n",
       "      <td>558.0</td>\n",
       "      <td>531.0</td>\n",
       "      <td>264.0</td>\n",
       "    </tr>\n",
       "  </tbody>\n",
       "</table>\n",
       "</div>"
      ],
      "text/plain": [
       "   Unnamed: 0  enroll12  test_takers  avg_scr_read  avg_scr_math  \\\n",
       "0           2       263           95         395.0         378.0   \n",
       "1           4       858          472         527.0         543.0   \n",
       "2          11       300          179         585.0         607.0   \n",
       "3          13       922          542         561.0         559.0   \n",
       "4          16       789          411         535.0         558.0   \n",
       "\n",
       "   avg_scr_writ  scr>1500  \n",
       "0         388.0       6.0  \n",
       "1         514.0     301.0  \n",
       "2         575.0     148.0  \n",
       "3         553.0     357.0  \n",
       "4         531.0     264.0  "
      ]
     },
     "execution_count": 10,
     "metadata": {},
     "output_type": "execute_result"
    }
   ],
   "source": [
    "numeric_record_d.head()"
   ]
  },
  {
   "cell_type": "code",
   "execution_count": 11,
   "id": "fa7a9ee4-8cb0-40e5-870a-ac53ef9c9782",
   "metadata": {},
   "outputs": [
    {
     "data": {
      "text/html": [
       "<div>\n",
       "<style scoped>\n",
       "    .dataframe tbody tr th:only-of-type {\n",
       "        vertical-align: middle;\n",
       "    }\n",
       "\n",
       "    .dataframe tbody tr th {\n",
       "        vertical-align: top;\n",
       "    }\n",
       "\n",
       "    .dataframe thead th {\n",
       "        text-align: right;\n",
       "    }\n",
       "</style>\n",
       "<table border=\"1\" class=\"dataframe\">\n",
       "  <thead>\n",
       "    <tr style=\"text-align: right;\">\n",
       "      <th></th>\n",
       "      <th>Unnamed: 0</th>\n",
       "      <th>enroll12</th>\n",
       "      <th>test_takers</th>\n",
       "      <th>avg_scr_read</th>\n",
       "      <th>avg_scr_math</th>\n",
       "      <th>avg_scr_writ</th>\n",
       "      <th>scr&gt;1500</th>\n",
       "    </tr>\n",
       "  </thead>\n",
       "  <tbody>\n",
       "    <tr>\n",
       "      <th>count</th>\n",
       "      <td>421.000000</td>\n",
       "      <td>421.000000</td>\n",
       "      <td>421.000000</td>\n",
       "      <td>421.000000</td>\n",
       "      <td>421.000000</td>\n",
       "      <td>421.000000</td>\n",
       "      <td>421.000000</td>\n",
       "    </tr>\n",
       "    <tr>\n",
       "      <th>mean</th>\n",
       "      <td>1162.399050</td>\n",
       "      <td>1045.073634</td>\n",
       "      <td>448.505938</td>\n",
       "      <td>488.700713</td>\n",
       "      <td>492.315914</td>\n",
       "      <td>477.923990</td>\n",
       "      <td>199.831354</td>\n",
       "    </tr>\n",
       "    <tr>\n",
       "      <th>std</th>\n",
       "      <td>709.914748</td>\n",
       "      <td>1356.721938</td>\n",
       "      <td>632.341437</td>\n",
       "      <td>50.011672</td>\n",
       "      <td>54.460492</td>\n",
       "      <td>50.270022</td>\n",
       "      <td>297.388511</td>\n",
       "    </tr>\n",
       "    <tr>\n",
       "      <th>min</th>\n",
       "      <td>2.000000</td>\n",
       "      <td>23.000000</td>\n",
       "      <td>15.000000</td>\n",
       "      <td>325.000000</td>\n",
       "      <td>333.000000</td>\n",
       "      <td>325.000000</td>\n",
       "      <td>0.000000</td>\n",
       "    </tr>\n",
       "    <tr>\n",
       "      <th>25%</th>\n",
       "      <td>474.000000</td>\n",
       "      <td>204.000000</td>\n",
       "      <td>65.000000</td>\n",
       "      <td>451.000000</td>\n",
       "      <td>454.000000</td>\n",
       "      <td>440.000000</td>\n",
       "      <td>20.000000</td>\n",
       "    </tr>\n",
       "    <tr>\n",
       "      <th>50%</th>\n",
       "      <td>1148.000000</td>\n",
       "      <td>561.000000</td>\n",
       "      <td>194.000000</td>\n",
       "      <td>488.000000</td>\n",
       "      <td>491.000000</td>\n",
       "      <td>474.000000</td>\n",
       "      <td>75.000000</td>\n",
       "    </tr>\n",
       "    <tr>\n",
       "      <th>75%</th>\n",
       "      <td>1821.000000</td>\n",
       "      <td>1419.000000</td>\n",
       "      <td>566.000000</td>\n",
       "      <td>523.000000</td>\n",
       "      <td>524.000000</td>\n",
       "      <td>510.000000</td>\n",
       "      <td>229.000000</td>\n",
       "    </tr>\n",
       "    <tr>\n",
       "      <th>max</th>\n",
       "      <td>2332.000000</td>\n",
       "      <td>10273.000000</td>\n",
       "      <td>5007.000000</td>\n",
       "      <td>642.000000</td>\n",
       "      <td>671.000000</td>\n",
       "      <td>645.000000</td>\n",
       "      <td>2093.000000</td>\n",
       "    </tr>\n",
       "  </tbody>\n",
       "</table>\n",
       "</div>"
      ],
      "text/plain": [
       "        Unnamed: 0      enroll12  test_takers  avg_scr_read  avg_scr_math  \\\n",
       "count   421.000000    421.000000   421.000000    421.000000    421.000000   \n",
       "mean   1162.399050   1045.073634   448.505938    488.700713    492.315914   \n",
       "std     709.914748   1356.721938   632.341437     50.011672     54.460492   \n",
       "min       2.000000     23.000000    15.000000    325.000000    333.000000   \n",
       "25%     474.000000    204.000000    65.000000    451.000000    454.000000   \n",
       "50%    1148.000000    561.000000   194.000000    488.000000    491.000000   \n",
       "75%    1821.000000   1419.000000   566.000000    523.000000    524.000000   \n",
       "max    2332.000000  10273.000000  5007.000000    642.000000    671.000000   \n",
       "\n",
       "       avg_scr_writ     scr>1500  \n",
       "count    421.000000   421.000000  \n",
       "mean     477.923990   199.831354  \n",
       "std       50.270022   297.388511  \n",
       "min      325.000000     0.000000  \n",
       "25%      440.000000    20.000000  \n",
       "50%      474.000000    75.000000  \n",
       "75%      510.000000   229.000000  \n",
       "max      645.000000  2093.000000  "
      ]
     },
     "execution_count": 11,
     "metadata": {},
     "output_type": "execute_result"
    }
   ],
   "source": [
    "numeric_record_d.describe()"
   ]
  },
  {
   "cell_type": "code",
   "execution_count": 12,
   "id": "25e19996-4861-4d7b-b624-f24f35b94965",
   "metadata": {},
   "outputs": [
    {
     "data": {
      "image/png": "[encoded data removed]",
      "text/plain": [
       "<Figure size 640x480 with 1 Axes>"
      ]
     },
     "metadata": {},
     "output_type": "display_data"
    }
   ],
   "source": [
    "# Create plot\n",
    "\n",
    "district_histogram = sns.histplot(numeric_record_d['enroll12'], bins = 25, kde = True) # Create a histogram based on school enrollment"
   ]
  },
  {
   "cell_type": "markdown",
   "id": "4e6b9177-4611-43be-aa5b-d7a86f3798be",
   "metadata": {},
   "source": [
    "##### District Categories\n",
    "\n",
    "High enrollment >= 2000\n",
    "\n",
    "Average enrollment >= 500 and <2000\n",
    "\n",
    "Low enrollment < 500"
   ]
  },
  {
   "cell_type": "code",
   "execution_count": 13,
   "id": "41b22e70-9a0d-4654-81d6-8a25384ce4a3",
   "metadata": {},
   "outputs": [],
   "source": [
    "# Create categories\n",
    "\n",
    "numeric_record_d.loc[numeric_record_d['enroll12'] >= 2000, 'Enroll Category'] = 'High enrollment'\n",
    "numeric_record_d.loc[(numeric_record_d['enroll12'] >= 500) & (numeric_record_d['enroll12'] < 2000), 'Enroll Category'] = 'Average enrollment'\n",
    "numeric_record_d.loc[numeric_record_d['enroll12'] < 500, 'Enroll Category'] = 'Low enrollment'"
   ]
  },
  {
   "cell_type": "code",
   "execution_count": 14,
   "id": "685041dc-5426-4baa-9f68-cc848e9a483b",
   "metadata": {},
   "outputs": [
    {
     "data": {
      "text/plain": [
       "Enroll Category\n",
       "Low enrollment        198\n",
       "Average enrollment    153\n",
       "High enrollment        70\n",
       "Name: count, dtype: int64"
      ]
     },
     "execution_count": 14,
     "metadata": {},
     "output_type": "execute_result"
    }
   ],
   "source": [
    "numeric_record_d['Enroll Category'].value_counts(dropna = False)"
   ]
  },
  {
   "cell_type": "code",
   "execution_count": 15,
   "id": "b6826512-5b94-44ae-b5cb-d50d0abcb60e",
   "metadata": {},
   "outputs": [
    {
     "data": {
      "text/plain": [
       "Index(['Unnamed: 0', 'enroll12', 'test_takers', 'avg_scr_read', 'avg_scr_math',\n",
       "       'avg_scr_writ', 'scr>1500', 'Enroll Category'],\n",
       "      dtype='object')"
      ]
     },
     "execution_count": 15,
     "metadata": {},
     "output_type": "execute_result"
    }
   ],
   "source": [
    "numeric_record_d.columns"
   ]
  },
  {
   "cell_type": "code",
   "execution_count": 16,
   "id": "46dd6e32-0ce8-4019-acf4-c7a1bc9c4cd9",
   "metadata": {},
   "outputs": [
    {
     "data": {
      "text/plain": [
       "(421, 8)"
      ]
     },
     "execution_count": 16,
     "metadata": {},
     "output_type": "execute_result"
    }
   ],
   "source": [
    "numeric_record_d.shape"
   ]
  },
  {
   "cell_type": "code",
   "execution_count": 17,
   "id": "64e6154d-8c12-4eea-992e-11d2b82653b2",
   "metadata": {},
   "outputs": [
    {
     "data": {
      "text/plain": [
       "<Figure size 3000x1000 with 0 Axes>"
      ]
     },
     "metadata": {},
     "output_type": "display_data"
    },
    {
     "data": {
      "image/png": "[encoded data removed]",
      "text/plain": [
       "<Figure size 687.5x500 with 1 Axes>"
      ]
     },
     "metadata": {},
     "output_type": "display_data"
    }
   ],
   "source": [
    "# Create a categorical plot in seaborn using the enrollment categories \n",
    "\n",
    "sns.set(style=\"ticks\")\n",
    "plt.figure(figsize=(30,10))\n",
    "district_cat_plot = sns.catplot(x=\"enroll12\", y=\"test_takers\", hue=\"Enroll Category\", data=numeric_record_d)\n",
    "# Move the legend\n",
    "district_cat_plot._legend.set_bbox_to_anchor((1,.5)) # Move legend to the right\n",
    "ax = plt.gca()\n",
    "n = 50 \n",
    "ax.set_xticks(ax.get_xticks()[::n])\n",
    "plt.xticks(fontsize=8)\n",
    "plt.show()"
   ]
  },
  {
   "cell_type": "markdown",
   "id": "f8c53f55-c864-4536-b247-70ad5d82f72c",
   "metadata": {},
   "source": [
    "##### Observations:\n",
    "1. Low enrollment has a low number of test takers\n",
    "2. Average and high enrollment overlap in number of test takers at times\n",
    "3. High enrollment has highest amount of test takers\n",
    "4. At the district level, having a lower enrollment does not always correlate to increased test taker totals"
   ]
  },
  {
   "cell_type": "markdown",
   "id": "3150ac43-7c2e-4dfb-9e36-a0d0abc9ea52",
   "metadata": {},
   "source": [
    "##### Hypotheses:\n",
    "1. If schools have a lower enrollment, then a higher percentage of students take the SAT\n",
    "2. If schools have higher enrollment, then SAT scores are lower\n",
    "3. If the percentage of test takers is high, then SAT scores are higher"
   ]
  },
  {
   "cell_type": "markdown",
   "id": "4b15ebda-495b-4f82-b5c0-e420b6dede92",
   "metadata": {},
   "source": [
    "### 3. Summary:\n",
    "1. df_districts 421, 14 >> 421, 15\n",
    "2. Subsets created:\n",
    "numeric_record_d only numeric values of df_districts 421, 6 >> 421, 7\n",
    "3. new columns:\n",
    "Enroll Category"
   ]
  },
  {
   "cell_type": "markdown",
   "id": "8f1ade8c-0da6-4669-87d0-229913f21545",
   "metadata": {},
   "source": [
    "### 4. Exports"
   ]
  },
  {
   "cell_type": "code",
   "execution_count": 18,
   "id": "9a6c6931-84ed-4bb5-bf34-2aa071789ce3",
   "metadata": {},
   "outputs": [],
   "source": [
    "#Export df\n",
    "\n",
    "df_districts.to_csv(os.path.join(path, 'Data','Prepared Data', 'SAT_Report_Districts 2.csv'))"
   ]
  },
  {
   "cell_type": "code",
   "execution_count": 19,
   "id": "aa8b1105-9997-4c4a-bcb7-533c9af6b15f",
   "metadata": {},
   "outputs": [],
   "source": [
    "#Export plots\n",
    "\n",
    "district_histogram.figure.savefig(os.path.join(path, 'Analysis', 'Visualizations', 'district_histogram.png'))\n",
    "district_cat_plot.figure.savefig(os.path.join(path, 'Analysis', 'Visualizations', 'district_catplot.png'))"
   ]
  }
 ],
 "metadata": {
  "kernelspec": {
   "display_name": "Python 3 (ipykernel)",
   "language": "python",
   "name": "python3"
  },
  "language_info": {
   "codemirror_mode": {
    "name": "ipython",
    "version": 3
   },
   "file_extension": ".py",
   "mimetype": "text/x-python",
   "name": "python",
   "nbconvert_exporter": "python",
   "pygments_lexer": "ipython3",
   "version": "3.12.3"
  }
 },
 "nbformat": 4,
 "nbformat_minor": 5
}
