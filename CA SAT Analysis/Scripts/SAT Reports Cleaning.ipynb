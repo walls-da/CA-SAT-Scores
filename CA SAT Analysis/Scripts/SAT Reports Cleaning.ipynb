{
 "cells": [
  {
   "cell_type": "markdown",
   "id": "7c85fd0a-0542-480c-873b-89746266ffdb",
   "metadata": {},
   "source": [
    "# Contents:\n",
    "\n",
    "1. Imports\n",
    "2. Data Wrangling\n",
    "3. Export"
   ]
  },
  {
   "cell_type": "code",
   "execution_count": 3,
   "id": "2f645941-7c12-4200-8c3b-5456ef5ea9db",
   "metadata": {},
   "outputs": [],
   "source": [
    "# Import libraries \n",
    "\n",
    "import pandas as pd\n",
    "import numpy as np\n",
    "import os"
   ]
  },
  {
   "cell_type": "code",
   "execution_count": 4,
   "id": "da181489-2b29-4a3a-88a1-4734d3c92fbf",
   "metadata": {},
   "outputs": [],
   "source": [
    "# create a path and import dataframe\n",
    "\n",
    "path = r'C:\\Users\\walls\\Documents\\Coding\\Data Analysis\\CareerFoundry\\Data Immersion A6\\CA SAT Analysis'\n",
    "df_sat = pd.read_csv(os.path.join(path, 'Data', 'Original Data', 'SAT Report 2015-2016.csv'), index_col = False)"
   ]
  },
  {
   "cell_type": "code",
   "execution_count": 5,
   "id": "55500137-d2fa-49bb-aed2-5542760fa0f0",
   "metadata": {},
   "outputs": [
    {
     "data": {
      "text/html": [
       "<div>\n",
       "<style scoped>\n",
       "    .dataframe tbody tr th:only-of-type {\n",
       "        vertical-align: middle;\n",
       "    }\n",
       "\n",
       "    .dataframe tbody tr th {\n",
       "        vertical-align: top;\n",
       "    }\n",
       "\n",
       "    .dataframe thead th {\n",
       "        text-align: right;\n",
       "    }\n",
       "</style>\n",
       "<table border=\"1\" class=\"dataframe\">\n",
       "  <thead>\n",
       "    <tr style=\"text-align: right;\">\n",
       "      <th></th>\n",
       "      <th>index</th>\n",
       "      <th>cds</th>\n",
       "      <th>rtype</th>\n",
       "      <th>sname</th>\n",
       "      <th>dname</th>\n",
       "      <th>cname</th>\n",
       "      <th>enroll12</th>\n",
       "      <th>NumTstTakr</th>\n",
       "      <th>AvgScrRead</th>\n",
       "      <th>AvgScrMath</th>\n",
       "      <th>AvgScrWrit</th>\n",
       "      <th>NumGE1500</th>\n",
       "      <th>PctGE1500</th>\n",
       "      <th>year</th>\n",
       "    </tr>\n",
       "  </thead>\n",
       "  <tbody>\n",
       "    <tr>\n",
       "      <th>0</th>\n",
       "      <td>0</td>\n",
       "      <td>0</td>\n",
       "      <td>X</td>\n",
       "      <td>NaN</td>\n",
       "      <td>NaN</td>\n",
       "      <td>NaN</td>\n",
       "      <td>492835</td>\n",
       "      <td>214262</td>\n",
       "      <td>484</td>\n",
       "      <td>494</td>\n",
       "      <td>477</td>\n",
       "      <td>89840</td>\n",
       "      <td>41.93</td>\n",
       "      <td>1516</td>\n",
       "    </tr>\n",
       "    <tr>\n",
       "      <th>1</th>\n",
       "      <td>1</td>\n",
       "      <td>1000000000000</td>\n",
       "      <td>C</td>\n",
       "      <td>NaN</td>\n",
       "      <td>NaN</td>\n",
       "      <td>Alameda</td>\n",
       "      <td>16662</td>\n",
       "      <td>8611</td>\n",
       "      <td>517</td>\n",
       "      <td>534</td>\n",
       "      <td>515</td>\n",
       "      <td>4696</td>\n",
       "      <td>54.53</td>\n",
       "      <td>1516</td>\n",
       "    </tr>\n",
       "    <tr>\n",
       "      <th>2</th>\n",
       "      <td>2</td>\n",
       "      <td>1100170000000</td>\n",
       "      <td>D</td>\n",
       "      <td>NaN</td>\n",
       "      <td>Alameda County Office of Education</td>\n",
       "      <td>Alameda</td>\n",
       "      <td>263</td>\n",
       "      <td>95</td>\n",
       "      <td>395</td>\n",
       "      <td>378</td>\n",
       "      <td>388</td>\n",
       "      <td>6</td>\n",
       "      <td>6.32</td>\n",
       "      <td>1516</td>\n",
       "    </tr>\n",
       "    <tr>\n",
       "      <th>3</th>\n",
       "      <td>3</td>\n",
       "      <td>1100170112607</td>\n",
       "      <td>S</td>\n",
       "      <td>Envision Academy for Arts &amp; Technology</td>\n",
       "      <td>Alameda County Office of Education</td>\n",
       "      <td>Alameda</td>\n",
       "      <td>88</td>\n",
       "      <td>92</td>\n",
       "      <td>391</td>\n",
       "      <td>376</td>\n",
       "      <td>386</td>\n",
       "      <td>5</td>\n",
       "      <td>5.43</td>\n",
       "      <td>1516</td>\n",
       "    </tr>\n",
       "    <tr>\n",
       "      <th>4</th>\n",
       "      <td>4</td>\n",
       "      <td>1611190000000</td>\n",
       "      <td>D</td>\n",
       "      <td>NaN</td>\n",
       "      <td>Alameda Unified</td>\n",
       "      <td>Alameda</td>\n",
       "      <td>858</td>\n",
       "      <td>472</td>\n",
       "      <td>527</td>\n",
       "      <td>543</td>\n",
       "      <td>514</td>\n",
       "      <td>301</td>\n",
       "      <td>63.77</td>\n",
       "      <td>1516</td>\n",
       "    </tr>\n",
       "  </tbody>\n",
       "</table>\n",
       "</div>"
      ],
      "text/plain": [
       "   index            cds rtype                                   sname  \\\n",
       "0      0              0     X                                     NaN   \n",
       "1      1  1000000000000     C                                     NaN   \n",
       "2      2  1100170000000     D                                     NaN   \n",
       "3      3  1100170112607     S  Envision Academy for Arts & Technology   \n",
       "4      4  1611190000000     D                                     NaN   \n",
       "\n",
       "                                dname    cname  enroll12  NumTstTakr  \\\n",
       "0                                 NaN      NaN    492835      214262   \n",
       "1                                 NaN  Alameda     16662        8611   \n",
       "2  Alameda County Office of Education  Alameda       263          95   \n",
       "3  Alameda County Office of Education  Alameda        88          92   \n",
       "4                     Alameda Unified  Alameda       858         472   \n",
       "\n",
       "  AvgScrRead AvgScrMath AvgScrWrit NumGE1500 PctGE1500  year  \n",
       "0        484        494        477     89840     41.93  1516  \n",
       "1        517        534        515      4696     54.53  1516  \n",
       "2        395        378        388         6      6.32  1516  \n",
       "3        391        376        386         5      5.43  1516  \n",
       "4        527        543        514       301     63.77  1516  "
      ]
     },
     "execution_count": 5,
     "metadata": {},
     "output_type": "execute_result"
    }
   ],
   "source": [
    "df_sat.head()"
   ]
  },
  {
   "cell_type": "markdown",
   "id": "bcbc9e0a-c8de-4887-acfb-dc15c4b9ea57",
   "metadata": {},
   "source": [
    "### Data Wrangling"
   ]
  },
  {
   "cell_type": "code",
   "execution_count": 6,
   "id": "bffe2d3d-f821-4b97-b3d0-6e854e2b9909",
   "metadata": {},
   "outputs": [
    {
     "data": {
      "text/html": [
       "<div>\n",
       "<style scoped>\n",
       "    .dataframe tbody tr th:only-of-type {\n",
       "        vertical-align: middle;\n",
       "    }\n",
       "\n",
       "    .dataframe tbody tr th {\n",
       "        vertical-align: top;\n",
       "    }\n",
       "\n",
       "    .dataframe thead th {\n",
       "        text-align: right;\n",
       "    }\n",
       "</style>\n",
       "<table border=\"1\" class=\"dataframe\">\n",
       "  <thead>\n",
       "    <tr style=\"text-align: right;\">\n",
       "      <th></th>\n",
       "      <th>index</th>\n",
       "      <th>cds</th>\n",
       "      <th>rtype</th>\n",
       "      <th>sname</th>\n",
       "      <th>dname</th>\n",
       "      <th>cname</th>\n",
       "      <th>enroll12</th>\n",
       "      <th>NumTstTakr</th>\n",
       "      <th>AvgScrRead</th>\n",
       "      <th>AvgScrMath</th>\n",
       "      <th>AvgScrWrit</th>\n",
       "      <th>NumGE1500</th>\n",
       "      <th>PctGE1500</th>\n",
       "      <th>year</th>\n",
       "    </tr>\n",
       "  </thead>\n",
       "  <tbody>\n",
       "    <tr>\n",
       "      <th>0</th>\n",
       "      <td>0</td>\n",
       "      <td>0</td>\n",
       "      <td>X</td>\n",
       "      <td>NaN</td>\n",
       "      <td>NaN</td>\n",
       "      <td>NaN</td>\n",
       "      <td>492835</td>\n",
       "      <td>214262</td>\n",
       "      <td>484</td>\n",
       "      <td>494</td>\n",
       "      <td>477</td>\n",
       "      <td>89840</td>\n",
       "      <td>41.93</td>\n",
       "      <td>1516</td>\n",
       "    </tr>\n",
       "    <tr>\n",
       "      <th>1</th>\n",
       "      <td>1</td>\n",
       "      <td>1000000000000</td>\n",
       "      <td>C</td>\n",
       "      <td>NaN</td>\n",
       "      <td>NaN</td>\n",
       "      <td>Alameda</td>\n",
       "      <td>16662</td>\n",
       "      <td>8611</td>\n",
       "      <td>517</td>\n",
       "      <td>534</td>\n",
       "      <td>515</td>\n",
       "      <td>4696</td>\n",
       "      <td>54.53</td>\n",
       "      <td>1516</td>\n",
       "    </tr>\n",
       "    <tr>\n",
       "      <th>2</th>\n",
       "      <td>2</td>\n",
       "      <td>1100170000000</td>\n",
       "      <td>D</td>\n",
       "      <td>NaN</td>\n",
       "      <td>Alameda County Office of Education</td>\n",
       "      <td>Alameda</td>\n",
       "      <td>263</td>\n",
       "      <td>95</td>\n",
       "      <td>395</td>\n",
       "      <td>378</td>\n",
       "      <td>388</td>\n",
       "      <td>6</td>\n",
       "      <td>6.32</td>\n",
       "      <td>1516</td>\n",
       "    </tr>\n",
       "    <tr>\n",
       "      <th>3</th>\n",
       "      <td>3</td>\n",
       "      <td>1100170112607</td>\n",
       "      <td>S</td>\n",
       "      <td>Envision Academy for Arts &amp; Technology</td>\n",
       "      <td>Alameda County Office of Education</td>\n",
       "      <td>Alameda</td>\n",
       "      <td>88</td>\n",
       "      <td>92</td>\n",
       "      <td>391</td>\n",
       "      <td>376</td>\n",
       "      <td>386</td>\n",
       "      <td>5</td>\n",
       "      <td>5.43</td>\n",
       "      <td>1516</td>\n",
       "    </tr>\n",
       "    <tr>\n",
       "      <th>4</th>\n",
       "      <td>4</td>\n",
       "      <td>1611190000000</td>\n",
       "      <td>D</td>\n",
       "      <td>NaN</td>\n",
       "      <td>Alameda Unified</td>\n",
       "      <td>Alameda</td>\n",
       "      <td>858</td>\n",
       "      <td>472</td>\n",
       "      <td>527</td>\n",
       "      <td>543</td>\n",
       "      <td>514</td>\n",
       "      <td>301</td>\n",
       "      <td>63.77</td>\n",
       "      <td>1516</td>\n",
       "    </tr>\n",
       "  </tbody>\n",
       "</table>\n",
       "</div>"
      ],
      "text/plain": [
       "   index            cds rtype                                   sname  \\\n",
       "0      0              0     X                                     NaN   \n",
       "1      1  1000000000000     C                                     NaN   \n",
       "2      2  1100170000000     D                                     NaN   \n",
       "3      3  1100170112607     S  Envision Academy for Arts & Technology   \n",
       "4      4  1611190000000     D                                     NaN   \n",
       "\n",
       "                                dname    cname  enroll12  NumTstTakr  \\\n",
       "0                                 NaN      NaN    492835      214262   \n",
       "1                                 NaN  Alameda     16662        8611   \n",
       "2  Alameda County Office of Education  Alameda       263          95   \n",
       "3  Alameda County Office of Education  Alameda        88          92   \n",
       "4                     Alameda Unified  Alameda       858         472   \n",
       "\n",
       "  AvgScrRead AvgScrMath AvgScrWrit NumGE1500 PctGE1500  year  \n",
       "0        484        494        477     89840     41.93  1516  \n",
       "1        517        534        515      4696     54.53  1516  \n",
       "2        395        378        388         6      6.32  1516  \n",
       "3        391        376        386         5      5.43  1516  \n",
       "4        527        543        514       301     63.77  1516  "
      ]
     },
     "execution_count": 6,
     "metadata": {},
     "output_type": "execute_result"
    }
   ],
   "source": [
    "df_sat.head()"
   ]
  },
  {
   "cell_type": "code",
   "execution_count": 7,
   "id": "fda680fe-4fff-43d5-8fcd-4c250970a8ad",
   "metadata": {},
   "outputs": [
    {
     "data": {
      "text/plain": [
       "(2334, 14)"
      ]
     },
     "execution_count": 7,
     "metadata": {},
     "output_type": "execute_result"
    }
   ],
   "source": [
    "df_sat.shape"
   ]
  },
  {
   "cell_type": "code",
   "execution_count": 8,
   "id": "937b3e59-1cc9-4726-a587-eb821e30a948",
   "metadata": {},
   "outputs": [
    {
     "data": {
      "text/html": [
       "<div>\n",
       "<style scoped>\n",
       "    .dataframe tbody tr th:only-of-type {\n",
       "        vertical-align: middle;\n",
       "    }\n",
       "\n",
       "    .dataframe tbody tr th {\n",
       "        vertical-align: top;\n",
       "    }\n",
       "\n",
       "    .dataframe thead th {\n",
       "        text-align: right;\n",
       "    }\n",
       "</style>\n",
       "<table border=\"1\" class=\"dataframe\">\n",
       "  <thead>\n",
       "    <tr style=\"text-align: right;\">\n",
       "      <th></th>\n",
       "      <th>index</th>\n",
       "      <th>cds</th>\n",
       "      <th>rtype</th>\n",
       "      <th>sname</th>\n",
       "      <th>dname</th>\n",
       "      <th>cname</th>\n",
       "      <th>enroll12</th>\n",
       "      <th>NumTstTakr</th>\n",
       "      <th>AvgScrRead</th>\n",
       "      <th>AvgScrMath</th>\n",
       "      <th>AvgScrWrit</th>\n",
       "      <th>NumGE1500</th>\n",
       "      <th>PctGE1500</th>\n",
       "      <th>year</th>\n",
       "    </tr>\n",
       "  </thead>\n",
       "  <tbody>\n",
       "    <tr>\n",
       "      <th>2329</th>\n",
       "      <td>2329</td>\n",
       "      <td>58727365830013</td>\n",
       "      <td>S</td>\n",
       "      <td>Lindhurst High</td>\n",
       "      <td>Marysville Joint Unified</td>\n",
       "      <td>Yuba</td>\n",
       "      <td>249</td>\n",
       "      <td>74</td>\n",
       "      <td>430</td>\n",
       "      <td>456</td>\n",
       "      <td>418</td>\n",
       "      <td>16</td>\n",
       "      <td>21.62</td>\n",
       "      <td>1516</td>\n",
       "    </tr>\n",
       "    <tr>\n",
       "      <th>2330</th>\n",
       "      <td>2330</td>\n",
       "      <td>58727365830138</td>\n",
       "      <td>S</td>\n",
       "      <td>Marysville Charter Academy for the Arts</td>\n",
       "      <td>Marysville Joint Unified</td>\n",
       "      <td>Yuba</td>\n",
       "      <td>38</td>\n",
       "      <td>21</td>\n",
       "      <td>532</td>\n",
       "      <td>500</td>\n",
       "      <td>513</td>\n",
       "      <td>13</td>\n",
       "      <td>61.90</td>\n",
       "      <td>1516</td>\n",
       "    </tr>\n",
       "    <tr>\n",
       "      <th>2331</th>\n",
       "      <td>2331</td>\n",
       "      <td>58727365835202</td>\n",
       "      <td>S</td>\n",
       "      <td>Marysville High</td>\n",
       "      <td>Marysville Joint Unified</td>\n",
       "      <td>Yuba</td>\n",
       "      <td>202</td>\n",
       "      <td>56</td>\n",
       "      <td>493</td>\n",
       "      <td>509</td>\n",
       "      <td>481</td>\n",
       "      <td>26</td>\n",
       "      <td>46.43</td>\n",
       "      <td>1516</td>\n",
       "    </tr>\n",
       "    <tr>\n",
       "      <th>2332</th>\n",
       "      <td>2332</td>\n",
       "      <td>58727690000000</td>\n",
       "      <td>D</td>\n",
       "      <td>NaN</td>\n",
       "      <td>Wheatland Union High</td>\n",
       "      <td>Yuba</td>\n",
       "      <td>168</td>\n",
       "      <td>60</td>\n",
       "      <td>500</td>\n",
       "      <td>496</td>\n",
       "      <td>481</td>\n",
       "      <td>27</td>\n",
       "      <td>45.00</td>\n",
       "      <td>1516</td>\n",
       "    </tr>\n",
       "    <tr>\n",
       "      <th>2333</th>\n",
       "      <td>2333</td>\n",
       "      <td>58727695838305</td>\n",
       "      <td>S</td>\n",
       "      <td>Wheatland Union High</td>\n",
       "      <td>Wheatland Union High</td>\n",
       "      <td>Yuba</td>\n",
       "      <td>168</td>\n",
       "      <td>60</td>\n",
       "      <td>500</td>\n",
       "      <td>496</td>\n",
       "      <td>481</td>\n",
       "      <td>27</td>\n",
       "      <td>45.00</td>\n",
       "      <td>1516</td>\n",
       "    </tr>\n",
       "  </tbody>\n",
       "</table>\n",
       "</div>"
      ],
      "text/plain": [
       "      index             cds rtype                                    sname  \\\n",
       "2329   2329  58727365830013     S                           Lindhurst High   \n",
       "2330   2330  58727365830138     S  Marysville Charter Academy for the Arts   \n",
       "2331   2331  58727365835202     S                          Marysville High   \n",
       "2332   2332  58727690000000     D                                      NaN   \n",
       "2333   2333  58727695838305     S                     Wheatland Union High   \n",
       "\n",
       "                         dname cname  enroll12  NumTstTakr AvgScrRead  \\\n",
       "2329  Marysville Joint Unified  Yuba       249          74        430   \n",
       "2330  Marysville Joint Unified  Yuba        38          21        532   \n",
       "2331  Marysville Joint Unified  Yuba       202          56        493   \n",
       "2332      Wheatland Union High  Yuba       168          60        500   \n",
       "2333      Wheatland Union High  Yuba       168          60        500   \n",
       "\n",
       "     AvgScrMath AvgScrWrit NumGE1500 PctGE1500  year  \n",
       "2329        456        418        16     21.62  1516  \n",
       "2330        500        513        13     61.90  1516  \n",
       "2331        509        481        26     46.43  1516  \n",
       "2332        496        481        27     45.00  1516  \n",
       "2333        496        481        27     45.00  1516  "
      ]
     },
     "execution_count": 8,
     "metadata": {},
     "output_type": "execute_result"
    }
   ],
   "source": [
    "df_sat.tail()"
   ]
  },
  {
   "cell_type": "code",
   "execution_count": 9,
   "id": "7c3f0fb5-f574-4052-9a78-71cada185692",
   "metadata": {},
   "outputs": [
    {
     "name": "stdout",
     "output_type": "stream",
     "text": [
      "<class 'pandas.core.frame.DataFrame'>\n",
      "RangeIndex: 2334 entries, 0 to 2333\n",
      "Data columns (total 14 columns):\n",
      " #   Column      Non-Null Count  Dtype \n",
      "---  ------      --------------  ----- \n",
      " 0   index       2334 non-null   int64 \n",
      " 1   cds         2334 non-null   int64 \n",
      " 2   rtype       2334 non-null   object\n",
      " 3   sname       1754 non-null   object\n",
      " 4   dname       2276 non-null   object\n",
      " 5   cname       2333 non-null   object\n",
      " 6   enroll12    2334 non-null   int64 \n",
      " 7   NumTstTakr  2334 non-null   int64 \n",
      " 8   AvgScrRead  2132 non-null   object\n",
      " 9   AvgScrMath  2132 non-null   object\n",
      " 10  AvgScrWrit  2132 non-null   object\n",
      " 11  NumGE1500   2132 non-null   object\n",
      " 12  PctGE1500   2132 non-null   object\n",
      " 13  year        2334 non-null   int64 \n",
      "dtypes: int64(5), object(9)\n",
      "memory usage: 255.4+ KB\n"
     ]
    }
   ],
   "source": [
    "df_sat.info()"
   ]
  },
  {
   "cell_type": "code",
   "execution_count": 10,
   "id": "cbad46f7-faff-4775-af3b-f753d83a1a59",
   "metadata": {
    "collapsed": true,
    "jupyter": {
     "outputs_hidden": true
    }
   },
   "outputs": [
    {
     "data": {
      "text/html": [
       "<div>\n",
       "<style scoped>\n",
       "    .dataframe tbody tr th:only-of-type {\n",
       "        vertical-align: middle;\n",
       "    }\n",
       "\n",
       "    .dataframe tbody tr th {\n",
       "        vertical-align: top;\n",
       "    }\n",
       "\n",
       "    .dataframe thead th {\n",
       "        text-align: right;\n",
       "    }\n",
       "</style>\n",
       "<table border=\"1\" class=\"dataframe\">\n",
       "  <thead>\n",
       "    <tr style=\"text-align: right;\">\n",
       "      <th></th>\n",
       "      <th>index</th>\n",
       "      <th>cds</th>\n",
       "      <th>enroll12</th>\n",
       "      <th>NumTstTakr</th>\n",
       "      <th>year</th>\n",
       "    </tr>\n",
       "  </thead>\n",
       "  <tbody>\n",
       "    <tr>\n",
       "      <th>count</th>\n",
       "      <td>2334.000000</td>\n",
       "      <td>2.334000e+03</td>\n",
       "      <td>2334.000000</td>\n",
       "      <td>2334.000000</td>\n",
       "      <td>2334.0</td>\n",
       "    </tr>\n",
       "    <tr>\n",
       "      <th>mean</th>\n",
       "      <td>1166.500000</td>\n",
       "      <td>2.919475e+13</td>\n",
       "      <td>828.073265</td>\n",
       "      <td>366.907455</td>\n",
       "      <td>1516.0</td>\n",
       "    </tr>\n",
       "    <tr>\n",
       "      <th>std</th>\n",
       "      <td>673.912086</td>\n",
       "      <td>1.440837e+13</td>\n",
       "      <td>10706.572048</td>\n",
       "      <td>4708.943529</td>\n",
       "      <td>0.0</td>\n",
       "    </tr>\n",
       "    <tr>\n",
       "      <th>min</th>\n",
       "      <td>0.000000</td>\n",
       "      <td>0.000000e+00</td>\n",
       "      <td>0.000000</td>\n",
       "      <td>0.000000</td>\n",
       "      <td>1516.0</td>\n",
       "    </tr>\n",
       "    <tr>\n",
       "      <th>25%</th>\n",
       "      <td>583.250000</td>\n",
       "      <td>1.964725e+13</td>\n",
       "      <td>74.000000</td>\n",
       "      <td>13.000000</td>\n",
       "      <td>1516.0</td>\n",
       "    </tr>\n",
       "    <tr>\n",
       "      <th>50%</th>\n",
       "      <td>1166.500000</td>\n",
       "      <td>3.066597e+13</td>\n",
       "      <td>227.000000</td>\n",
       "      <td>89.000000</td>\n",
       "      <td>1516.0</td>\n",
       "    </tr>\n",
       "    <tr>\n",
       "      <th>75%</th>\n",
       "      <td>1749.750000</td>\n",
       "      <td>3.868478e+13</td>\n",
       "      <td>496.500000</td>\n",
       "      <td>227.750000</td>\n",
       "      <td>1516.0</td>\n",
       "    </tr>\n",
       "    <tr>\n",
       "      <th>max</th>\n",
       "      <td>2333.000000</td>\n",
       "      <td>5.872770e+13</td>\n",
       "      <td>492835.000000</td>\n",
       "      <td>214262.000000</td>\n",
       "      <td>1516.0</td>\n",
       "    </tr>\n",
       "  </tbody>\n",
       "</table>\n",
       "</div>"
      ],
      "text/plain": [
       "             index           cds       enroll12     NumTstTakr    year\n",
       "count  2334.000000  2.334000e+03    2334.000000    2334.000000  2334.0\n",
       "mean   1166.500000  2.919475e+13     828.073265     366.907455  1516.0\n",
       "std     673.912086  1.440837e+13   10706.572048    4708.943529     0.0\n",
       "min       0.000000  0.000000e+00       0.000000       0.000000  1516.0\n",
       "25%     583.250000  1.964725e+13      74.000000      13.000000  1516.0\n",
       "50%    1166.500000  3.066597e+13     227.000000      89.000000  1516.0\n",
       "75%    1749.750000  3.868478e+13     496.500000     227.750000  1516.0\n",
       "max    2333.000000  5.872770e+13  492835.000000  214262.000000  1516.0"
      ]
     },
     "execution_count": 10,
     "metadata": {},
     "output_type": "execute_result"
    }
   ],
   "source": [
    "df_sat.describe()"
   ]
  },
  {
   "cell_type": "markdown",
   "id": "829cc73d-113b-4ee0-b081-99e9e082169b",
   "metadata": {},
   "source": [
    "#### Observations: \n",
    "1. Column names unclear\n",
    "2. cds should be a string\n",
    "3. AvgScrRead, AvgScrMath, AvgScrWrit, NumGE1500, PctGE1500 should be int\n",
    "4. year stats seem strange"
   ]
  },
  {
   "cell_type": "code",
   "execution_count": 19,
   "id": "4a9db7ea-2a17-4e84-a6a4-2a572442568f",
   "metadata": {
    "jupyter": {
     "source_hidden": true
    }
   },
   "outputs": [],
   "source": [
    "# Renaming columns\n",
    "\n",
    "df_sat.rename(columns = {'cds' : 'cds_code', 'rtype' : 'record_type', 'sname' : 'school', 'dname' : 'district', 'cname' : 'county', 'NumTstTakr' : 'test_takers', 'AvgScrRead' : 'avg_scr_read', 'AvgScrMath' : 'avg_scr_math', 'AvgScrWrit' : 'avg_scr_writ', 'NumGE1500' : 'scr>1500', 'PctGE1500' : 'percentage'}, inplace = True)"
   ]
  },
  {
   "cell_type": "code",
   "execution_count": 20,
   "id": "4c677d47-220c-45fa-8140-627c95f29e60",
   "metadata": {
    "collapsed": true,
    "jupyter": {
     "outputs_hidden": true
    }
   },
   "outputs": [
    {
     "data": {
      "text/html": [
       "<div>\n",
       "<style scoped>\n",
       "    .dataframe tbody tr th:only-of-type {\n",
       "        vertical-align: middle;\n",
       "    }\n",
       "\n",
       "    .dataframe tbody tr th {\n",
       "        vertical-align: top;\n",
       "    }\n",
       "\n",
       "    .dataframe thead th {\n",
       "        text-align: right;\n",
       "    }\n",
       "</style>\n",
       "<table border=\"1\" class=\"dataframe\">\n",
       "  <thead>\n",
       "    <tr style=\"text-align: right;\">\n",
       "      <th></th>\n",
       "      <th>index</th>\n",
       "      <th>cds_code</th>\n",
       "      <th>record_type</th>\n",
       "      <th>school</th>\n",
       "      <th>district</th>\n",
       "      <th>county</th>\n",
       "      <th>enroll12</th>\n",
       "      <th>test_takers</th>\n",
       "      <th>avg_scr_read</th>\n",
       "      <th>avg_scr_math</th>\n",
       "      <th>avg_scr_writ</th>\n",
       "      <th>scr&gt;1500</th>\n",
       "      <th>percentage</th>\n",
       "      <th>year</th>\n",
       "    </tr>\n",
       "  </thead>\n",
       "  <tbody>\n",
       "    <tr>\n",
       "      <th>0</th>\n",
       "      <td>0</td>\n",
       "      <td>0</td>\n",
       "      <td>X</td>\n",
       "      <td>NaN</td>\n",
       "      <td>NaN</td>\n",
       "      <td>NaN</td>\n",
       "      <td>492835</td>\n",
       "      <td>214262</td>\n",
       "      <td>484</td>\n",
       "      <td>494</td>\n",
       "      <td>477</td>\n",
       "      <td>89840</td>\n",
       "      <td>41.93</td>\n",
       "      <td>1516</td>\n",
       "    </tr>\n",
       "  </tbody>\n",
       "</table>\n",
       "</div>"
      ],
      "text/plain": [
       "   index  cds_code record_type school district county  enroll12  test_takers  \\\n",
       "0      0         0           X    NaN      NaN    NaN    492835       214262   \n",
       "\n",
       "  avg_scr_read avg_scr_math avg_scr_writ scr>1500 percentage  year  \n",
       "0          484          494          477    89840      41.93  1516  "
      ]
     },
     "execution_count": 20,
     "metadata": {},
     "output_type": "execute_result"
    }
   ],
   "source": [
    "df_sat.head(1)"
   ]
  },
  {
   "cell_type": "code",
   "execution_count": 25,
   "id": "e1321222-eb71-4af6-a293-2d2034e51a63",
   "metadata": {
    "collapsed": true,
    "jupyter": {
     "outputs_hidden": true,
     "source_hidden": true
    }
   },
   "outputs": [
    {
     "name": "stdout",
     "output_type": "stream",
     "text": [
      "school\n",
      "district\n",
      "county\n",
      "avg_scr_read\n",
      "avg_scr_math\n",
      "avg_scr_writ\n",
      "scr>1500\n",
      "percentage\n"
     ]
    }
   ],
   "source": [
    "# Check for mixed types\n",
    "\n",
    "for col in df_sat.columns.tolist():\n",
    "  weird = (df_sat[[col]].map(type) != df_sat[[col]].iloc[0].apply(type)).any(axis = 1)\n",
    "  if len (df_sat[weird]) > 0:\n",
    "    print (col)"
   ]
  },
  {
   "cell_type": "code",
   "execution_count": 72,
   "id": "a73d866a-5d4c-442f-8912-ae31fcbfa1d9",
   "metadata": {
    "jupyter": {
     "source_hidden": true
    }
   },
   "outputs": [],
   "source": [
    "# Changing index school district county and year to string\n",
    "\n",
    "df_sat[['index', 'school', 'district', 'county', 'year']] = df_sat[['index', 'school', 'district', 'county', 'year']].astype('str')"
   ]
  },
  {
   "cell_type": "code",
   "execution_count": 30,
   "id": "0802bf3c-445f-4960-ae5a-010b43214b12",
   "metadata": {
    "jupyter": {
     "source_hidden": true
    }
   },
   "outputs": [],
   "source": [
    "# Change cds_code to string\n",
    "\n",
    "df_sat['cds_code'] = df_sat['cds_code'].astype('str')"
   ]
  },
  {
   "cell_type": "code",
   "execution_count": 49,
   "id": "0b48fe27-c01a-479a-b4b8-415bca2fa188",
   "metadata": {
    "jupyter": {
     "source_hidden": true
    }
   },
   "outputs": [],
   "source": [
    "# Previous error occured: ValueError: invalid literal for int() with base 10: '*'\n",
    "# Changing * to NaN instead for now\n",
    "\n",
    "df_sat[['avg_scr_read', 'avg_scr_math', 'avg_scr_writ', 'scr>1500', 'percentage']] = df_sat[['avg_scr_read', 'avg_scr_math', 'avg_scr_writ', 'scr>1500', 'percentage']].replace('*', np.nan)"
   ]
  },
  {
   "cell_type": "code",
   "execution_count": 54,
   "id": "e2890940-9660-4fd6-aae4-8f8d8a8bf4e3",
   "metadata": {
    "jupyter": {
     "source_hidden": true
    }
   },
   "outputs": [],
   "source": [
    "# Converting new NaN values to numerics\n",
    "\n",
    "columns_to_convert = ['avg_scr_read', 'avg_scr_math', 'avg_scr_writ', 'scr>1500', 'percentage']\n",
    "\n",
    "# Apply to_numeric to each column\n",
    "\n",
    "for col in columns_to_convert:\n",
    "    df_sat[col] = pd.to_numeric(df_sat[col], errors='coerce')"
   ]
  },
  {
   "cell_type": "code",
   "execution_count": 57,
   "id": "3c457a93-a653-4b5e-be4f-48d885004eb0",
   "metadata": {
    "collapsed": true,
    "jupyter": {
     "outputs_hidden": true
    },
    "scrolled": true
   },
   "outputs": [
    {
     "name": "stdout",
     "output_type": "stream",
     "text": [
      "<class 'pandas.core.frame.DataFrame'>\n",
      "RangeIndex: 2334 entries, 0 to 2333\n",
      "Data columns (total 14 columns):\n",
      " #   Column        Non-Null Count  Dtype  \n",
      "---  ------        --------------  -----  \n",
      " 0   index         2334 non-null   int64  \n",
      " 1   cds_code      2334 non-null   object \n",
      " 2   record_type   2334 non-null   object \n",
      " 3   school        2334 non-null   object \n",
      " 4   district      2334 non-null   object \n",
      " 5   county        2334 non-null   object \n",
      " 6   enroll12      2334 non-null   int64  \n",
      " 7   test_takers   2334 non-null   int64  \n",
      " 8   avg_scr_read  1731 non-null   float64\n",
      " 9   avg_scr_math  1731 non-null   float64\n",
      " 10  avg_scr_writ  1731 non-null   float64\n",
      " 11  scr>1500      1731 non-null   float64\n",
      " 12  percentage    1731 non-null   float64\n",
      " 13  year          2334 non-null   int64  \n",
      "dtypes: float64(5), int64(4), object(5)\n",
      "memory usage: 255.4+ KB\n"
     ]
    }
   ],
   "source": [
    "df_sat.info()"
   ]
  },
  {
   "cell_type": "code",
   "execution_count": 58,
   "id": "69bac182-334b-47b5-b0ed-c2b628886f3f",
   "metadata": {
    "jupyter": {
     "source_hidden": true
    }
   },
   "outputs": [],
   "source": [
    "# Checking for mixed types again\n",
    "\n",
    "for col in df_sat.columns.tolist():\n",
    "  weird = (df_sat[[col]].map(type) != df_sat[[col]].iloc[0].apply(type)).any(axis = 1)\n",
    "  if len (df_sat[weird]) > 0:\n",
    "    print (col)"
   ]
  },
  {
   "cell_type": "code",
   "execution_count": 68,
   "id": "9dc084db-93e4-4b77-afb5-45d34bf1139d",
   "metadata": {
    "jupyter": {
     "source_hidden": true
    }
   },
   "outputs": [],
   "source": [
    "# Year as '1516' refers to 2015 to 2016 \n",
    "# Will change to FY16 to refer to fiscal year starting in '15 and ending in '16\n",
    "\n",
    "df_sat['year'] = df_sat['year'].replace('1516', 'FY16')"
   ]
  },
  {
   "cell_type": "code",
   "execution_count": 69,
   "id": "14bd3aa0-0292-4d64-a89e-231596f9ce9b",
   "metadata": {
    "collapsed": true,
    "jupyter": {
     "outputs_hidden": true
    }
   },
   "outputs": [
    {
     "data": {
      "text/html": [
       "<div>\n",
       "<style scoped>\n",
       "    .dataframe tbody tr th:only-of-type {\n",
       "        vertical-align: middle;\n",
       "    }\n",
       "\n",
       "    .dataframe tbody tr th {\n",
       "        vertical-align: top;\n",
       "    }\n",
       "\n",
       "    .dataframe thead th {\n",
       "        text-align: right;\n",
       "    }\n",
       "</style>\n",
       "<table border=\"1\" class=\"dataframe\">\n",
       "  <thead>\n",
       "    <tr style=\"text-align: right;\">\n",
       "      <th></th>\n",
       "      <th>index</th>\n",
       "      <th>cds_code</th>\n",
       "      <th>record_type</th>\n",
       "      <th>school</th>\n",
       "      <th>district</th>\n",
       "      <th>county</th>\n",
       "      <th>enroll12</th>\n",
       "      <th>test_takers</th>\n",
       "      <th>avg_scr_read</th>\n",
       "      <th>avg_scr_math</th>\n",
       "      <th>avg_scr_writ</th>\n",
       "      <th>scr&gt;1500</th>\n",
       "      <th>percentage</th>\n",
       "      <th>year</th>\n",
       "    </tr>\n",
       "  </thead>\n",
       "  <tbody>\n",
       "    <tr>\n",
       "      <th>0</th>\n",
       "      <td>0</td>\n",
       "      <td>0</td>\n",
       "      <td>X</td>\n",
       "      <td>nan</td>\n",
       "      <td>nan</td>\n",
       "      <td>nan</td>\n",
       "      <td>492835</td>\n",
       "      <td>214262</td>\n",
       "      <td>484.0</td>\n",
       "      <td>494.0</td>\n",
       "      <td>477.0</td>\n",
       "      <td>89840.0</td>\n",
       "      <td>41.93</td>\n",
       "      <td>FY16</td>\n",
       "    </tr>\n",
       "    <tr>\n",
       "      <th>1</th>\n",
       "      <td>1</td>\n",
       "      <td>1000000000000</td>\n",
       "      <td>C</td>\n",
       "      <td>nan</td>\n",
       "      <td>nan</td>\n",
       "      <td>Alameda</td>\n",
       "      <td>16662</td>\n",
       "      <td>8611</td>\n",
       "      <td>517.0</td>\n",
       "      <td>534.0</td>\n",
       "      <td>515.0</td>\n",
       "      <td>4696.0</td>\n",
       "      <td>54.53</td>\n",
       "      <td>FY16</td>\n",
       "    </tr>\n",
       "    <tr>\n",
       "      <th>2</th>\n",
       "      <td>2</td>\n",
       "      <td>1100170000000</td>\n",
       "      <td>D</td>\n",
       "      <td>nan</td>\n",
       "      <td>Alameda County Office of Education</td>\n",
       "      <td>Alameda</td>\n",
       "      <td>263</td>\n",
       "      <td>95</td>\n",
       "      <td>395.0</td>\n",
       "      <td>378.0</td>\n",
       "      <td>388.0</td>\n",
       "      <td>6.0</td>\n",
       "      <td>6.32</td>\n",
       "      <td>FY16</td>\n",
       "    </tr>\n",
       "    <tr>\n",
       "      <th>3</th>\n",
       "      <td>3</td>\n",
       "      <td>1100170112607</td>\n",
       "      <td>S</td>\n",
       "      <td>Envision Academy for Arts &amp; Technology</td>\n",
       "      <td>Alameda County Office of Education</td>\n",
       "      <td>Alameda</td>\n",
       "      <td>88</td>\n",
       "      <td>92</td>\n",
       "      <td>391.0</td>\n",
       "      <td>376.0</td>\n",
       "      <td>386.0</td>\n",
       "      <td>5.0</td>\n",
       "      <td>5.43</td>\n",
       "      <td>FY16</td>\n",
       "    </tr>\n",
       "    <tr>\n",
       "      <th>4</th>\n",
       "      <td>4</td>\n",
       "      <td>1611190000000</td>\n",
       "      <td>D</td>\n",
       "      <td>nan</td>\n",
       "      <td>Alameda Unified</td>\n",
       "      <td>Alameda</td>\n",
       "      <td>858</td>\n",
       "      <td>472</td>\n",
       "      <td>527.0</td>\n",
       "      <td>543.0</td>\n",
       "      <td>514.0</td>\n",
       "      <td>301.0</td>\n",
       "      <td>63.77</td>\n",
       "      <td>FY16</td>\n",
       "    </tr>\n",
       "  </tbody>\n",
       "</table>\n",
       "</div>"
      ],
      "text/plain": [
       "   index       cds_code record_type                                  school  \\\n",
       "0      0              0           X                                     nan   \n",
       "1      1  1000000000000           C                                     nan   \n",
       "2      2  1100170000000           D                                     nan   \n",
       "3      3  1100170112607           S  Envision Academy for Arts & Technology   \n",
       "4      4  1611190000000           D                                     nan   \n",
       "\n",
       "                             district   county  enroll12  test_takers  \\\n",
       "0                                 nan      nan    492835       214262   \n",
       "1                                 nan  Alameda     16662         8611   \n",
       "2  Alameda County Office of Education  Alameda       263           95   \n",
       "3  Alameda County Office of Education  Alameda        88           92   \n",
       "4                     Alameda Unified  Alameda       858          472   \n",
       "\n",
       "   avg_scr_read  avg_scr_math  avg_scr_writ  scr>1500  percentage  year  \n",
       "0         484.0         494.0         477.0   89840.0       41.93  FY16  \n",
       "1         517.0         534.0         515.0    4696.0       54.53  FY16  \n",
       "2         395.0         378.0         388.0       6.0        6.32  FY16  \n",
       "3         391.0         376.0         386.0       5.0        5.43  FY16  \n",
       "4         527.0         543.0         514.0     301.0       63.77  FY16  "
      ]
     },
     "execution_count": 69,
     "metadata": {},
     "output_type": "execute_result"
    }
   ],
   "source": [
    "df_sat.head(5)"
   ]
  },
  {
   "cell_type": "code",
   "execution_count": 73,
   "id": "1b02873d-2de5-4320-a9a6-11ae28ed1310",
   "metadata": {},
   "outputs": [
    {
     "data": {
      "text/html": [
       "<div>\n",
       "<style scoped>\n",
       "    .dataframe tbody tr th:only-of-type {\n",
       "        vertical-align: middle;\n",
       "    }\n",
       "\n",
       "    .dataframe tbody tr th {\n",
       "        vertical-align: top;\n",
       "    }\n",
       "\n",
       "    .dataframe thead th {\n",
       "        text-align: right;\n",
       "    }\n",
       "</style>\n",
       "<table border=\"1\" class=\"dataframe\">\n",
       "  <thead>\n",
       "    <tr style=\"text-align: right;\">\n",
       "      <th></th>\n",
       "      <th>enroll12</th>\n",
       "      <th>test_takers</th>\n",
       "      <th>avg_scr_read</th>\n",
       "      <th>avg_scr_math</th>\n",
       "      <th>avg_scr_writ</th>\n",
       "      <th>scr&gt;1500</th>\n",
       "      <th>percentage</th>\n",
       "    </tr>\n",
       "  </thead>\n",
       "  <tbody>\n",
       "    <tr>\n",
       "      <th>count</th>\n",
       "      <td>2334.000000</td>\n",
       "      <td>2334.000000</td>\n",
       "      <td>1731.000000</td>\n",
       "      <td>1731.000000</td>\n",
       "      <td>1731.000000</td>\n",
       "      <td>1731.000000</td>\n",
       "      <td>1731.000000</td>\n",
       "    </tr>\n",
       "    <tr>\n",
       "      <th>mean</th>\n",
       "      <td>828.073265</td>\n",
       "      <td>366.907455</td>\n",
       "      <td>477.628538</td>\n",
       "      <td>482.608897</td>\n",
       "      <td>468.573079</td>\n",
       "      <td>207.079723</td>\n",
       "      <td>38.973131</td>\n",
       "    </tr>\n",
       "    <tr>\n",
       "      <th>std</th>\n",
       "      <td>10706.572048</td>\n",
       "      <td>4708.943529</td>\n",
       "      <td>57.883539</td>\n",
       "      <td>61.802755</td>\n",
       "      <td>56.637737</td>\n",
       "      <td>2260.998787</td>\n",
       "      <td>22.594265</td>\n",
       "    </tr>\n",
       "    <tr>\n",
       "      <th>min</th>\n",
       "      <td>0.000000</td>\n",
       "      <td>0.000000</td>\n",
       "      <td>261.000000</td>\n",
       "      <td>264.000000</td>\n",
       "      <td>263.000000</td>\n",
       "      <td>0.000000</td>\n",
       "      <td>0.000000</td>\n",
       "    </tr>\n",
       "    <tr>\n",
       "      <th>25%</th>\n",
       "      <td>74.000000</td>\n",
       "      <td>13.000000</td>\n",
       "      <td>436.000000</td>\n",
       "      <td>439.000000</td>\n",
       "      <td>429.500000</td>\n",
       "      <td>16.000000</td>\n",
       "      <td>20.435000</td>\n",
       "    </tr>\n",
       "    <tr>\n",
       "      <th>50%</th>\n",
       "      <td>227.000000</td>\n",
       "      <td>89.000000</td>\n",
       "      <td>477.000000</td>\n",
       "      <td>482.000000</td>\n",
       "      <td>465.000000</td>\n",
       "      <td>45.000000</td>\n",
       "      <td>37.040000</td>\n",
       "    </tr>\n",
       "    <tr>\n",
       "      <th>75%</th>\n",
       "      <td>496.500000</td>\n",
       "      <td>227.750000</td>\n",
       "      <td>518.500000</td>\n",
       "      <td>521.000000</td>\n",
       "      <td>505.000000</td>\n",
       "      <td>132.000000</td>\n",
       "      <td>55.850000</td>\n",
       "    </tr>\n",
       "    <tr>\n",
       "      <th>max</th>\n",
       "      <td>492835.000000</td>\n",
       "      <td>214262.000000</td>\n",
       "      <td>657.000000</td>\n",
       "      <td>710.000000</td>\n",
       "      <td>677.000000</td>\n",
       "      <td>89840.000000</td>\n",
       "      <td>98.530000</td>\n",
       "    </tr>\n",
       "  </tbody>\n",
       "</table>\n",
       "</div>"
      ],
      "text/plain": [
       "            enroll12    test_takers  avg_scr_read  avg_scr_math  avg_scr_writ  \\\n",
       "count    2334.000000    2334.000000   1731.000000   1731.000000   1731.000000   \n",
       "mean      828.073265     366.907455    477.628538    482.608897    468.573079   \n",
       "std     10706.572048    4708.943529     57.883539     61.802755     56.637737   \n",
       "min         0.000000       0.000000    261.000000    264.000000    263.000000   \n",
       "25%        74.000000      13.000000    436.000000    439.000000    429.500000   \n",
       "50%       227.000000      89.000000    477.000000    482.000000    465.000000   \n",
       "75%       496.500000     227.750000    518.500000    521.000000    505.000000   \n",
       "max    492835.000000  214262.000000    657.000000    710.000000    677.000000   \n",
       "\n",
       "           scr>1500   percentage  \n",
       "count   1731.000000  1731.000000  \n",
       "mean     207.079723    38.973131  \n",
       "std     2260.998787    22.594265  \n",
       "min        0.000000     0.000000  \n",
       "25%       16.000000    20.435000  \n",
       "50%       45.000000    37.040000  \n",
       "75%      132.000000    55.850000  \n",
       "max    89840.000000    98.530000  "
      ]
     },
     "execution_count": 73,
     "metadata": {},
     "output_type": "execute_result"
    }
   ],
   "source": [
    "# Checking stats again\n",
    "\n",
    "df_sat.describe()"
   ]
  },
  {
   "cell_type": "code",
   "execution_count": 74,
   "id": "32e7377e-94d4-4923-a089-8f0971d3686d",
   "metadata": {},
   "outputs": [
    {
     "data": {
      "text/plain": [
       "year\n",
       "FY16    2334\n",
       "Name: count, dtype: int64"
      ]
     },
     "execution_count": 74,
     "metadata": {},
     "output_type": "execute_result"
    }
   ],
   "source": [
    "df_sat['year'].value_counts()"
   ]
  },
  {
   "cell_type": "markdown",
   "id": "d1ba3449-042b-43f8-a7ef-86ac26127d71",
   "metadata": {},
   "source": [
    "##### Observations: \n",
    "1. Name changes good\n",
    "2. Data type changes good\n",
    "3. Year count looks good"
   ]
  },
  {
   "cell_type": "code",
   "execution_count": 75,
   "id": "001ce39c-0d4e-464d-9fde-1d37a35fa248",
   "metadata": {},
   "outputs": [
    {
     "data": {
      "text/plain": [
       "index             0\n",
       "cds_code          0\n",
       "record_type       0\n",
       "school            0\n",
       "district          0\n",
       "county            0\n",
       "enroll12          0\n",
       "test_takers       0\n",
       "avg_scr_read    603\n",
       "avg_scr_math    603\n",
       "avg_scr_writ    603\n",
       "scr>1500        603\n",
       "percentage      603\n",
       "year              0\n",
       "dtype: int64"
      ]
     },
     "execution_count": 75,
     "metadata": {},
     "output_type": "execute_result"
    }
   ],
   "source": [
    "# Checking for missing values\n",
    "\n",
    "df_sat.isnull().sum()"
   ]
  },
  {
   "cell_type": "markdown",
   "id": "f8ca575e-75d1-41e3-849e-556c4936f5dc",
   "metadata": {},
   "source": [
    "##### Observations:\n",
    "1. 603 missing values for avg scr_read,scr_writ, scr_math, and percentage"
   ]
  },
  {
   "cell_type": "code",
   "execution_count": 81,
   "id": "457ed95c-dbc1-46da-8354-6238f9760417",
   "metadata": {},
   "outputs": [
    {
     "data": {
      "text/plain": [
       "avg_scr_read    603\n",
       "avg_scr_math    603\n",
       "avg_scr_writ    603\n",
       "percentage      603\n",
       "dtype: int64"
      ]
     },
     "execution_count": 81,
     "metadata": {},
     "output_type": "execute_result"
    }
   ],
   "source": [
    "df_sat[['avg_scr_read', 'avg_scr_math', 'avg_scr_writ', 'percentage']].isna().sum()"
   ]
  },
  {
   "cell_type": "markdown",
   "id": "53c0c91e-7155-4e22-91bd-721dd51306fc",
   "metadata": {},
   "source": [
    "##### Observations: \n",
    "1. Missing values are the NaN values\n",
    "2. Because they are equal in number for each column, going to keep them and look for any patterns"
   ]
  },
  {
   "cell_type": "code",
   "execution_count": 82,
   "id": "58a74256-cd1c-4aac-87c0-74f78c96824e",
   "metadata": {},
   "outputs": [],
   "source": [
    "# Checking for duplicates \n",
    "\n",
    "df_dup = df_sat[df_sat.duplicated()]"
   ]
  },
  {
   "cell_type": "code",
   "execution_count": 83,
   "id": "d313a86c-2e00-4b29-9955-ed0cecf4f6e6",
   "metadata": {},
   "outputs": [
    {
     "data": {
      "text/html": [
       "<div>\n",
       "<style scoped>\n",
       "    .dataframe tbody tr th:only-of-type {\n",
       "        vertical-align: middle;\n",
       "    }\n",
       "\n",
       "    .dataframe tbody tr th {\n",
       "        vertical-align: top;\n",
       "    }\n",
       "\n",
       "    .dataframe thead th {\n",
       "        text-align: right;\n",
       "    }\n",
       "</style>\n",
       "<table border=\"1\" class=\"dataframe\">\n",
       "  <thead>\n",
       "    <tr style=\"text-align: right;\">\n",
       "      <th></th>\n",
       "      <th>index</th>\n",
       "      <th>cds_code</th>\n",
       "      <th>record_type</th>\n",
       "      <th>school</th>\n",
       "      <th>district</th>\n",
       "      <th>county</th>\n",
       "      <th>enroll12</th>\n",
       "      <th>test_takers</th>\n",
       "      <th>avg_scr_read</th>\n",
       "      <th>avg_scr_math</th>\n",
       "      <th>avg_scr_writ</th>\n",
       "      <th>scr&gt;1500</th>\n",
       "      <th>percentage</th>\n",
       "      <th>year</th>\n",
       "    </tr>\n",
       "  </thead>\n",
       "  <tbody>\n",
       "  </tbody>\n",
       "</table>\n",
       "</div>"
      ],
      "text/plain": [
       "Empty DataFrame\n",
       "Columns: [index, cds_code, record_type, school, district, county, enroll12, test_takers, avg_scr_read, avg_scr_math, avg_scr_writ, scr>1500, percentage, year]\n",
       "Index: []"
      ]
     },
     "execution_count": 83,
     "metadata": {},
     "output_type": "execute_result"
    }
   ],
   "source": [
    "df_dup"
   ]
  },
  {
   "cell_type": "code",
   "execution_count": 84,
   "id": "7d25c3a5-a4d0-4a9d-ad82-63c242a6441f",
   "metadata": {},
   "outputs": [
    {
     "data": {
      "text/plain": [
       "(2334, 14)"
      ]
     },
     "execution_count": 84,
     "metadata": {},
     "output_type": "execute_result"
    }
   ],
   "source": [
    "df_sat.shape"
   ]
  },
  {
   "cell_type": "markdown",
   "id": "3a6d3335-5d0c-41cb-ac2f-d2616e90fb0d",
   "metadata": {},
   "source": [
    "### 3. Export"
   ]
  },
  {
   "cell_type": "code",
   "execution_count": 87,
   "id": "eb53614a-7efd-442a-963b-6e8074d85ca7",
   "metadata": {},
   "outputs": [],
   "source": [
    "# Export df_sat\n",
    "\n",
    "df_sat.to_csv(os.path.join(path, 'Data','Prepared Data', 'SAT_Report_cleaned.csv'))"
   ]
  }
 ],
 "metadata": {
  "kernelspec": {
   "display_name": "Python 3 (ipykernel)",
   "language": "python",
   "name": "python3"
  },
  "language_info": {
   "codemirror_mode": {
    "name": "ipython",
    "version": 3
   },
   "file_extension": ".py",
   "mimetype": "text/x-python",
   "name": "python",
   "nbconvert_exporter": "python",
   "pygments_lexer": "ipython3",
   "version": "3.12.7"
  }
 },
 "nbformat": 4,
 "nbformat_minor": 5
}
