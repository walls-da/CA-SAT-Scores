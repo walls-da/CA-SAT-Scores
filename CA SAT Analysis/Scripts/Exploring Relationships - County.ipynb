{
 "cells": [
  {
   "cell_type": "markdown",
   "id": "0a0da57d-ce78-4a66-92bc-3c118a91ab1e",
   "metadata": {},
   "source": [
    "# Exploring Relationships: CA Districts"
   ]
  },
  {
   "cell_type": "markdown",
   "id": "96025dbb-85a5-4a85-bd1e-7b23266e051c",
   "metadata": {},
   "source": [
    "## Contents:\n",
    "1. Imports\n",
    "2. Exploring Relationships\n",
    "3. Summary\n",
    "4. Exports"
   ]
  },
  {
   "cell_type": "code",
   "execution_count": 3,
   "id": "2f6a9f56-3a45-4168-9747-d7a1a0508839",
   "metadata": {},
   "outputs": [],
   "source": [
    "# Import libraries \n",
    "\n",
    "import pandas as pd\n",
    "import numpy as np\n",
    "import seaborn as sns\n",
    "import matplotlib.pyplot as plt\n",
    "import matplotlib\n",
    "import os"
   ]
  },
  {
   "cell_type": "code",
   "execution_count": 4,
   "id": "232190f5-52e1-4d8b-a222-3a2689462ab2",
   "metadata": {},
   "outputs": [],
   "source": [
    "# Defining path and importing df\n",
    "\n",
    "path = r'C:\\Users\\walls\\Documents\\Coding\\Data Analysis\\CareerFoundry\\Data Immersion A6\\CA SAT Analysis'\n",
    "\n",
    "# county only dataframe\n",
    "df_county = pd.read_csv(os.path.join(path, 'Data', 'Prepared Data', 'SAT_Report_County.csv'), index_col = False) #previously df_record_c"
   ]
  },
  {
   "cell_type": "code",
   "execution_count": 5,
   "id": "0bc037f5-f352-47f0-94ad-93eac062182a",
   "metadata": {},
   "outputs": [
    {
     "data": {
      "text/plain": [
       "(47, 15)"
      ]
     },
     "execution_count": 5,
     "metadata": {},
     "output_type": "execute_result"
    }
   ],
   "source": [
    "df_county.shape"
   ]
  },
  {
   "cell_type": "code",
   "execution_count": 6,
   "id": "b4f00a56-2cc2-42a9-800b-2ec3c6619936",
   "metadata": {},
   "outputs": [
    {
     "data": {
      "text/html": [
       "<div>\n",
       "<style scoped>\n",
       "    .dataframe tbody tr th:only-of-type {\n",
       "        vertical-align: middle;\n",
       "    }\n",
       "\n",
       "    .dataframe tbody tr th {\n",
       "        vertical-align: top;\n",
       "    }\n",
       "\n",
       "    .dataframe thead th {\n",
       "        text-align: right;\n",
       "    }\n",
       "</style>\n",
       "<table border=\"1\" class=\"dataframe\">\n",
       "  <thead>\n",
       "    <tr style=\"text-align: right;\">\n",
       "      <th></th>\n",
       "      <th>Unnamed: 0</th>\n",
       "      <th>index</th>\n",
       "      <th>cds_code</th>\n",
       "      <th>record_type</th>\n",
       "      <th>school</th>\n",
       "      <th>district</th>\n",
       "      <th>county</th>\n",
       "      <th>enroll12</th>\n",
       "      <th>test_takers</th>\n",
       "      <th>avg_scr_read</th>\n",
       "      <th>avg_scr_math</th>\n",
       "      <th>avg_scr_writ</th>\n",
       "      <th>scr&gt;1500</th>\n",
       "      <th>percentage</th>\n",
       "      <th>year</th>\n",
       "    </tr>\n",
       "  </thead>\n",
       "  <tbody>\n",
       "    <tr>\n",
       "      <th>0</th>\n",
       "      <td>89</td>\n",
       "      <td>89</td>\n",
       "      <td>3.000000e+12</td>\n",
       "      <td>C</td>\n",
       "      <td>NaN</td>\n",
       "      <td>NaN</td>\n",
       "      <td>Amador</td>\n",
       "      <td>326</td>\n",
       "      <td>88</td>\n",
       "      <td>534.0</td>\n",
       "      <td>525.0</td>\n",
       "      <td>510.0</td>\n",
       "      <td>58.0</td>\n",
       "      <td>65.91</td>\n",
       "      <td>FY16</td>\n",
       "    </tr>\n",
       "    <tr>\n",
       "      <th>1</th>\n",
       "      <td>95</td>\n",
       "      <td>95</td>\n",
       "      <td>4.000000e+12</td>\n",
       "      <td>C</td>\n",
       "      <td>NaN</td>\n",
       "      <td>NaN</td>\n",
       "      <td>Butte</td>\n",
       "      <td>2445</td>\n",
       "      <td>694</td>\n",
       "      <td>508.0</td>\n",
       "      <td>522.0</td>\n",
       "      <td>490.0</td>\n",
       "      <td>375.0</td>\n",
       "      <td>54.03</td>\n",
       "      <td>FY16</td>\n",
       "    </tr>\n",
       "    <tr>\n",
       "      <th>2</th>\n",
       "      <td>119</td>\n",
       "      <td>119</td>\n",
       "      <td>5.000000e+12</td>\n",
       "      <td>C</td>\n",
       "      <td>NaN</td>\n",
       "      <td>NaN</td>\n",
       "      <td>Calaveras</td>\n",
       "      <td>498</td>\n",
       "      <td>130</td>\n",
       "      <td>512.0</td>\n",
       "      <td>515.0</td>\n",
       "      <td>499.0</td>\n",
       "      <td>70.0</td>\n",
       "      <td>53.85</td>\n",
       "      <td>FY16</td>\n",
       "    </tr>\n",
       "    <tr>\n",
       "      <th>3</th>\n",
       "      <td>126</td>\n",
       "      <td>126</td>\n",
       "      <td>6.000000e+12</td>\n",
       "      <td>C</td>\n",
       "      <td>NaN</td>\n",
       "      <td>NaN</td>\n",
       "      <td>Colusa</td>\n",
       "      <td>356</td>\n",
       "      <td>109</td>\n",
       "      <td>454.0</td>\n",
       "      <td>461.0</td>\n",
       "      <td>451.0</td>\n",
       "      <td>29.0</td>\n",
       "      <td>26.61</td>\n",
       "      <td>FY16</td>\n",
       "    </tr>\n",
       "    <tr>\n",
       "      <th>4</th>\n",
       "      <td>193</td>\n",
       "      <td>193</td>\n",
       "      <td>8.000000e+12</td>\n",
       "      <td>C</td>\n",
       "      <td>NaN</td>\n",
       "      <td>NaN</td>\n",
       "      <td>Del Norte</td>\n",
       "      <td>372</td>\n",
       "      <td>54</td>\n",
       "      <td>475.0</td>\n",
       "      <td>493.0</td>\n",
       "      <td>456.0</td>\n",
       "      <td>20.0</td>\n",
       "      <td>37.04</td>\n",
       "      <td>FY16</td>\n",
       "    </tr>\n",
       "  </tbody>\n",
       "</table>\n",
       "</div>"
      ],
      "text/plain": [
       "   Unnamed: 0  index      cds_code record_type  school  district     county  \\\n",
       "0          89     89  3.000000e+12           C     NaN       NaN     Amador   \n",
       "1          95     95  4.000000e+12           C     NaN       NaN      Butte   \n",
       "2         119    119  5.000000e+12           C     NaN       NaN  Calaveras   \n",
       "3         126    126  6.000000e+12           C     NaN       NaN     Colusa   \n",
       "4         193    193  8.000000e+12           C     NaN       NaN  Del Norte   \n",
       "\n",
       "   enroll12  test_takers  avg_scr_read  avg_scr_math  avg_scr_writ  scr>1500  \\\n",
       "0       326           88         534.0         525.0         510.0      58.0   \n",
       "1      2445          694         508.0         522.0         490.0     375.0   \n",
       "2       498          130         512.0         515.0         499.0      70.0   \n",
       "3       356          109         454.0         461.0         451.0      29.0   \n",
       "4       372           54         475.0         493.0         456.0      20.0   \n",
       "\n",
       "   percentage  year  \n",
       "0       65.91  FY16  \n",
       "1       54.03  FY16  \n",
       "2       53.85  FY16  \n",
       "3       26.61  FY16  \n",
       "4       37.04  FY16  "
      ]
     },
     "execution_count": 6,
     "metadata": {},
     "output_type": "execute_result"
    }
   ],
   "source": [
    "df_county.head()"
   ]
  },
  {
   "cell_type": "code",
   "execution_count": 7,
   "id": "5497b3d9-d986-4a43-952e-3705e5312779",
   "metadata": {},
   "outputs": [],
   "source": [
    "# Change cds_code to string\n",
    "\n",
    "df_county['cds_code'] = df_county['cds_code'].astype(str)"
   ]
  },
  {
   "cell_type": "code",
   "execution_count": 8,
   "id": "92c233a6-6a7d-4161-92d0-8e65aa9473f7",
   "metadata": {},
   "outputs": [
    {
     "data": {
      "text/plain": [
       "Unnamed: 0        int64\n",
       "index             int64\n",
       "cds_code         object\n",
       "record_type      object\n",
       "school          float64\n",
       "district        float64\n",
       "county           object\n",
       "enroll12          int64\n",
       "test_takers       int64\n",
       "avg_scr_read    float64\n",
       "avg_scr_math    float64\n",
       "avg_scr_writ    float64\n",
       "scr>1500        float64\n",
       "percentage      float64\n",
       "year             object\n",
       "dtype: object"
      ]
     },
     "execution_count": 8,
     "metadata": {},
     "output_type": "execute_result"
    }
   ],
   "source": [
    "df_county.dtypes"
   ]
  },
  {
   "cell_type": "code",
   "execution_count": 9,
   "id": "d065f95e-c9d9-4a4c-9c2b-6e3a0b3bdae9",
   "metadata": {},
   "outputs": [],
   "source": [
    "# Change school and district to object\n",
    "\n",
    "df_county['school'] = df_county['school'].astype(str)\n",
    "df_county['district'] = df_county['district'].astype(str)"
   ]
  },
  {
   "cell_type": "code",
   "execution_count": 10,
   "id": "b377cc36-c9ab-4851-833d-a9667cd53914",
   "metadata": {},
   "outputs": [
    {
     "data": {
      "text/plain": [
       "Unnamed: 0        int64\n",
       "index             int64\n",
       "cds_code         object\n",
       "record_type      object\n",
       "school           object\n",
       "district         object\n",
       "county           object\n",
       "enroll12          int64\n",
       "test_takers       int64\n",
       "avg_scr_read    float64\n",
       "avg_scr_math    float64\n",
       "avg_scr_writ    float64\n",
       "scr>1500        float64\n",
       "percentage      float64\n",
       "year             object\n",
       "dtype: object"
      ]
     },
     "execution_count": 10,
     "metadata": {},
     "output_type": "execute_result"
    }
   ],
   "source": [
    "df_county.dtypes"
   ]
  },
  {
   "cell_type": "code",
   "execution_count": 11,
   "id": "a5b84417-bc60-4410-9a3e-a992d43ebd5d",
   "metadata": {},
   "outputs": [
    {
     "data": {
      "text/html": [
       "<div>\n",
       "<style scoped>\n",
       "    .dataframe tbody tr th:only-of-type {\n",
       "        vertical-align: middle;\n",
       "    }\n",
       "\n",
       "    .dataframe tbody tr th {\n",
       "        vertical-align: top;\n",
       "    }\n",
       "\n",
       "    .dataframe thead th {\n",
       "        text-align: right;\n",
       "    }\n",
       "</style>\n",
       "<table border=\"1\" class=\"dataframe\">\n",
       "  <thead>\n",
       "    <tr style=\"text-align: right;\">\n",
       "      <th></th>\n",
       "      <th>Unnamed: 0</th>\n",
       "      <th>index</th>\n",
       "      <th>cds_code</th>\n",
       "      <th>record_type</th>\n",
       "      <th>school</th>\n",
       "      <th>district</th>\n",
       "      <th>county</th>\n",
       "      <th>enroll12</th>\n",
       "      <th>test_takers</th>\n",
       "      <th>avg_scr_read</th>\n",
       "      <th>avg_scr_math</th>\n",
       "      <th>avg_scr_writ</th>\n",
       "      <th>scr&gt;1500</th>\n",
       "      <th>percentage</th>\n",
       "      <th>year</th>\n",
       "    </tr>\n",
       "  </thead>\n",
       "  <tbody>\n",
       "    <tr>\n",
       "      <th>0</th>\n",
       "      <td>89</td>\n",
       "      <td>89</td>\n",
       "      <td>3000000000000.0</td>\n",
       "      <td>C</td>\n",
       "      <td>nan</td>\n",
       "      <td>nan</td>\n",
       "      <td>Amador</td>\n",
       "      <td>326</td>\n",
       "      <td>88</td>\n",
       "      <td>534.0</td>\n",
       "      <td>525.0</td>\n",
       "      <td>510.0</td>\n",
       "      <td>58.0</td>\n",
       "      <td>65.91</td>\n",
       "      <td>FY16</td>\n",
       "    </tr>\n",
       "    <tr>\n",
       "      <th>1</th>\n",
       "      <td>95</td>\n",
       "      <td>95</td>\n",
       "      <td>4000000000000.0</td>\n",
       "      <td>C</td>\n",
       "      <td>nan</td>\n",
       "      <td>nan</td>\n",
       "      <td>Butte</td>\n",
       "      <td>2445</td>\n",
       "      <td>694</td>\n",
       "      <td>508.0</td>\n",
       "      <td>522.0</td>\n",
       "      <td>490.0</td>\n",
       "      <td>375.0</td>\n",
       "      <td>54.03</td>\n",
       "      <td>FY16</td>\n",
       "    </tr>\n",
       "    <tr>\n",
       "      <th>2</th>\n",
       "      <td>119</td>\n",
       "      <td>119</td>\n",
       "      <td>5000000000000.0</td>\n",
       "      <td>C</td>\n",
       "      <td>nan</td>\n",
       "      <td>nan</td>\n",
       "      <td>Calaveras</td>\n",
       "      <td>498</td>\n",
       "      <td>130</td>\n",
       "      <td>512.0</td>\n",
       "      <td>515.0</td>\n",
       "      <td>499.0</td>\n",
       "      <td>70.0</td>\n",
       "      <td>53.85</td>\n",
       "      <td>FY16</td>\n",
       "    </tr>\n",
       "    <tr>\n",
       "      <th>3</th>\n",
       "      <td>126</td>\n",
       "      <td>126</td>\n",
       "      <td>6000000000000.0</td>\n",
       "      <td>C</td>\n",
       "      <td>nan</td>\n",
       "      <td>nan</td>\n",
       "      <td>Colusa</td>\n",
       "      <td>356</td>\n",
       "      <td>109</td>\n",
       "      <td>454.0</td>\n",
       "      <td>461.0</td>\n",
       "      <td>451.0</td>\n",
       "      <td>29.0</td>\n",
       "      <td>26.61</td>\n",
       "      <td>FY16</td>\n",
       "    </tr>\n",
       "    <tr>\n",
       "      <th>4</th>\n",
       "      <td>193</td>\n",
       "      <td>193</td>\n",
       "      <td>8000000000000.0</td>\n",
       "      <td>C</td>\n",
       "      <td>nan</td>\n",
       "      <td>nan</td>\n",
       "      <td>Del Norte</td>\n",
       "      <td>372</td>\n",
       "      <td>54</td>\n",
       "      <td>475.0</td>\n",
       "      <td>493.0</td>\n",
       "      <td>456.0</td>\n",
       "      <td>20.0</td>\n",
       "      <td>37.04</td>\n",
       "      <td>FY16</td>\n",
       "    </tr>\n",
       "  </tbody>\n",
       "</table>\n",
       "</div>"
      ],
      "text/plain": [
       "   Unnamed: 0  index         cds_code record_type school district     county  \\\n",
       "0          89     89  3000000000000.0           C    nan      nan     Amador   \n",
       "1          95     95  4000000000000.0           C    nan      nan      Butte   \n",
       "2         119    119  5000000000000.0           C    nan      nan  Calaveras   \n",
       "3         126    126  6000000000000.0           C    nan      nan     Colusa   \n",
       "4         193    193  8000000000000.0           C    nan      nan  Del Norte   \n",
       "\n",
       "   enroll12  test_takers  avg_scr_read  avg_scr_math  avg_scr_writ  scr>1500  \\\n",
       "0       326           88         534.0         525.0         510.0      58.0   \n",
       "1      2445          694         508.0         522.0         490.0     375.0   \n",
       "2       498          130         512.0         515.0         499.0      70.0   \n",
       "3       356          109         454.0         461.0         451.0      29.0   \n",
       "4       372           54         475.0         493.0         456.0      20.0   \n",
       "\n",
       "   percentage  year  \n",
       "0       65.91  FY16  \n",
       "1       54.03  FY16  \n",
       "2       53.85  FY16  \n",
       "3       26.61  FY16  \n",
       "4       37.04  FY16  "
      ]
     },
     "execution_count": 11,
     "metadata": {},
     "output_type": "execute_result"
    }
   ],
   "source": [
    "df_county.head()"
   ]
  },
  {
   "cell_type": "code",
   "execution_count": 12,
   "id": "15696840-c8f0-496f-8202-0f61d09304a4",
   "metadata": {},
   "outputs": [
    {
     "data": {
      "text/plain": [
       "(47, 15)"
      ]
     },
     "execution_count": 12,
     "metadata": {},
     "output_type": "execute_result"
    }
   ],
   "source": [
    "df_county.shape"
   ]
  },
  {
   "cell_type": "markdown",
   "id": "5821c3d9-01ca-4dc5-9e15-e2542856653a",
   "metadata": {},
   "source": [
    "### 2. Exploring Relationships"
   ]
  },
  {
   "cell_type": "code",
   "execution_count": 13,
   "id": "675205f1-e281-4d34-812b-1598d29b96b5",
   "metadata": {},
   "outputs": [],
   "source": [
    "# Create numerical subset of df_record_d to see only disctric data\n",
    "numeric_record_c = df_county.select_dtypes(include=[np.number])\n",
    "\n",
    "# Removing index and percentage (irrelevant data)\n",
    "numeric_record_c.drop(['index', 'percentage'], axis=1, inplace=True)"
   ]
  },
  {
   "cell_type": "code",
   "execution_count": 14,
   "id": "1044ab3b-44f9-4edb-b82e-1c68f5a9bc04",
   "metadata": {},
   "outputs": [
    {
     "data": {
      "text/html": [
       "<div>\n",
       "<style scoped>\n",
       "    .dataframe tbody tr th:only-of-type {\n",
       "        vertical-align: middle;\n",
       "    }\n",
       "\n",
       "    .dataframe tbody tr th {\n",
       "        vertical-align: top;\n",
       "    }\n",
       "\n",
       "    .dataframe thead th {\n",
       "        text-align: right;\n",
       "    }\n",
       "</style>\n",
       "<table border=\"1\" class=\"dataframe\">\n",
       "  <thead>\n",
       "    <tr style=\"text-align: right;\">\n",
       "      <th></th>\n",
       "      <th>Unnamed: 0</th>\n",
       "      <th>enroll12</th>\n",
       "      <th>test_takers</th>\n",
       "      <th>avg_scr_read</th>\n",
       "      <th>avg_scr_math</th>\n",
       "      <th>avg_scr_writ</th>\n",
       "      <th>scr&gt;1500</th>\n",
       "    </tr>\n",
       "  </thead>\n",
       "  <tbody>\n",
       "    <tr>\n",
       "      <th>0</th>\n",
       "      <td>89</td>\n",
       "      <td>326</td>\n",
       "      <td>88</td>\n",
       "      <td>534.0</td>\n",
       "      <td>525.0</td>\n",
       "      <td>510.0</td>\n",
       "      <td>58.0</td>\n",
       "    </tr>\n",
       "    <tr>\n",
       "      <th>1</th>\n",
       "      <td>95</td>\n",
       "      <td>2445</td>\n",
       "      <td>694</td>\n",
       "      <td>508.0</td>\n",
       "      <td>522.0</td>\n",
       "      <td>490.0</td>\n",
       "      <td>375.0</td>\n",
       "    </tr>\n",
       "    <tr>\n",
       "      <th>2</th>\n",
       "      <td>119</td>\n",
       "      <td>498</td>\n",
       "      <td>130</td>\n",
       "      <td>512.0</td>\n",
       "      <td>515.0</td>\n",
       "      <td>499.0</td>\n",
       "      <td>70.0</td>\n",
       "    </tr>\n",
       "    <tr>\n",
       "      <th>3</th>\n",
       "      <td>126</td>\n",
       "      <td>356</td>\n",
       "      <td>109</td>\n",
       "      <td>454.0</td>\n",
       "      <td>461.0</td>\n",
       "      <td>451.0</td>\n",
       "      <td>29.0</td>\n",
       "    </tr>\n",
       "    <tr>\n",
       "      <th>4</th>\n",
       "      <td>193</td>\n",
       "      <td>372</td>\n",
       "      <td>54</td>\n",
       "      <td>475.0</td>\n",
       "      <td>493.0</td>\n",
       "      <td>456.0</td>\n",
       "      <td>20.0</td>\n",
       "    </tr>\n",
       "  </tbody>\n",
       "</table>\n",
       "</div>"
      ],
      "text/plain": [
       "   Unnamed: 0  enroll12  test_takers  avg_scr_read  avg_scr_math  \\\n",
       "0          89       326           88         534.0         525.0   \n",
       "1          95      2445          694         508.0         522.0   \n",
       "2         119       498          130         512.0         515.0   \n",
       "3         126       356          109         454.0         461.0   \n",
       "4         193       372           54         475.0         493.0   \n",
       "\n",
       "   avg_scr_writ  scr>1500  \n",
       "0         510.0      58.0  \n",
       "1         490.0     375.0  \n",
       "2         499.0      70.0  \n",
       "3         451.0      29.0  \n",
       "4         456.0      20.0  "
      ]
     },
     "execution_count": 14,
     "metadata": {},
     "output_type": "execute_result"
    }
   ],
   "source": [
    "numeric_record_c.head()"
   ]
  },
  {
   "cell_type": "code",
   "execution_count": 15,
   "id": "206bcb1d-d7d8-43c5-9f74-4983173b3dd1",
   "metadata": {},
   "outputs": [
    {
     "data": {
      "text/plain": [
       "(47, 7)"
      ]
     },
     "execution_count": 15,
     "metadata": {},
     "output_type": "execute_result"
    }
   ],
   "source": [
    "numeric_record_c.shape"
   ]
  },
  {
   "cell_type": "code",
   "execution_count": 16,
   "id": "35643225-bda6-431c-9314-8d60e8664724",
   "metadata": {},
   "outputs": [
    {
     "data": {
      "text/plain": [
       "Unnamed: 0        int64\n",
       "enroll12          int64\n",
       "test_takers       int64\n",
       "avg_scr_read    float64\n",
       "avg_scr_math    float64\n",
       "avg_scr_writ    float64\n",
       "scr>1500        float64\n",
       "dtype: object"
      ]
     },
     "execution_count": 16,
     "metadata": {},
     "output_type": "execute_result"
    }
   ],
   "source": [
    "numeric_record_c.dtypes"
   ]
  },
  {
   "cell_type": "code",
   "execution_count": 17,
   "id": "cbec9cda-a76f-4545-9851-5efb4c9cb36d",
   "metadata": {},
   "outputs": [
    {
     "data": {
      "text/html": [
       "<div>\n",
       "<style scoped>\n",
       "    .dataframe tbody tr th:only-of-type {\n",
       "        vertical-align: middle;\n",
       "    }\n",
       "\n",
       "    .dataframe tbody tr th {\n",
       "        vertical-align: top;\n",
       "    }\n",
       "\n",
       "    .dataframe thead th {\n",
       "        text-align: right;\n",
       "    }\n",
       "</style>\n",
       "<table border=\"1\" class=\"dataframe\">\n",
       "  <thead>\n",
       "    <tr style=\"text-align: right;\">\n",
       "      <th></th>\n",
       "      <th>Unnamed: 0</th>\n",
       "      <th>enroll12</th>\n",
       "      <th>test_takers</th>\n",
       "      <th>avg_scr_read</th>\n",
       "      <th>avg_scr_math</th>\n",
       "      <th>avg_scr_writ</th>\n",
       "      <th>scr&gt;1500</th>\n",
       "    </tr>\n",
       "  </thead>\n",
       "  <tbody>\n",
       "    <tr>\n",
       "      <th>count</th>\n",
       "      <td>47.000000</td>\n",
       "      <td>47.000000</td>\n",
       "      <td>47.000000</td>\n",
       "      <td>47.000000</td>\n",
       "      <td>47.000000</td>\n",
       "      <td>47.000000</td>\n",
       "      <td>47.000000</td>\n",
       "    </tr>\n",
       "    <tr>\n",
       "      <th>mean</th>\n",
       "      <td>1219.553191</td>\n",
       "      <td>3209.361702</td>\n",
       "      <td>1149.744681</td>\n",
       "      <td>493.425532</td>\n",
       "      <td>497.468085</td>\n",
       "      <td>479.021277</td>\n",
       "      <td>499.510638</td>\n",
       "    </tr>\n",
       "    <tr>\n",
       "      <th>std</th>\n",
       "      <td>788.050065</td>\n",
       "      <td>3657.941155</td>\n",
       "      <td>1394.600262</td>\n",
       "      <td>30.569767</td>\n",
       "      <td>30.436571</td>\n",
       "      <td>28.272347</td>\n",
       "      <td>593.208149</td>\n",
       "    </tr>\n",
       "    <tr>\n",
       "      <th>min</th>\n",
       "      <td>89.000000</td>\n",
       "      <td>105.000000</td>\n",
       "      <td>31.000000</td>\n",
       "      <td>446.000000</td>\n",
       "      <td>446.000000</td>\n",
       "      <td>431.000000</td>\n",
       "      <td>10.000000</td>\n",
       "    </tr>\n",
       "    <tr>\n",
       "      <th>25%</th>\n",
       "      <td>386.000000</td>\n",
       "      <td>567.500000</td>\n",
       "      <td>129.000000</td>\n",
       "      <td>468.500000</td>\n",
       "      <td>472.500000</td>\n",
       "      <td>457.500000</td>\n",
       "      <td>64.000000</td>\n",
       "    </tr>\n",
       "    <tr>\n",
       "      <th>50%</th>\n",
       "      <td>1086.000000</td>\n",
       "      <td>2139.000000</td>\n",
       "      <td>539.000000</td>\n",
       "      <td>493.000000</td>\n",
       "      <td>500.000000</td>\n",
       "      <td>475.000000</td>\n",
       "      <td>239.000000</td>\n",
       "    </tr>\n",
       "    <tr>\n",
       "      <th>75%</th>\n",
       "      <td>2025.500000</td>\n",
       "      <td>4856.000000</td>\n",
       "      <td>1739.000000</td>\n",
       "      <td>517.500000</td>\n",
       "      <td>522.500000</td>\n",
       "      <td>502.500000</td>\n",
       "      <td>721.000000</td>\n",
       "    </tr>\n",
       "    <tr>\n",
       "      <th>max</th>\n",
       "      <td>2323.000000</td>\n",
       "      <td>14980.000000</td>\n",
       "      <td>5992.000000</td>\n",
       "      <td>556.000000</td>\n",
       "      <td>561.000000</td>\n",
       "      <td>539.000000</td>\n",
       "      <td>2303.000000</td>\n",
       "    </tr>\n",
       "  </tbody>\n",
       "</table>\n",
       "</div>"
      ],
      "text/plain": [
       "        Unnamed: 0      enroll12  test_takers  avg_scr_read  avg_scr_math  \\\n",
       "count    47.000000     47.000000    47.000000     47.000000     47.000000   \n",
       "mean   1219.553191   3209.361702  1149.744681    493.425532    497.468085   \n",
       "std     788.050065   3657.941155  1394.600262     30.569767     30.436571   \n",
       "min      89.000000    105.000000    31.000000    446.000000    446.000000   \n",
       "25%     386.000000    567.500000   129.000000    468.500000    472.500000   \n",
       "50%    1086.000000   2139.000000   539.000000    493.000000    500.000000   \n",
       "75%    2025.500000   4856.000000  1739.000000    517.500000    522.500000   \n",
       "max    2323.000000  14980.000000  5992.000000    556.000000    561.000000   \n",
       "\n",
       "       avg_scr_writ     scr>1500  \n",
       "count     47.000000    47.000000  \n",
       "mean     479.021277   499.510638  \n",
       "std       28.272347   593.208149  \n",
       "min      431.000000    10.000000  \n",
       "25%      457.500000    64.000000  \n",
       "50%      475.000000   239.000000  \n",
       "75%      502.500000   721.000000  \n",
       "max      539.000000  2303.000000  "
      ]
     },
     "execution_count": 17,
     "metadata": {},
     "output_type": "execute_result"
    }
   ],
   "source": [
    "numeric_record_c.describe()"
   ]
  },
  {
   "cell_type": "code",
   "execution_count": 18,
   "id": "dea5f2a0-170c-4c36-83b9-2183f0e0af32",
   "metadata": {},
   "outputs": [
    {
     "data": {
      "image/png": "[encoded data removed]",
      "text/plain": [
       "<Figure size 640x480 with 1 Axes>"
      ]
     },
     "metadata": {},
     "output_type": "display_data"
    }
   ],
   "source": [
    "# Create plot\n",
    "\n",
    "county_histogram = sns.histplot(numeric_record_c['enroll12'], bins = 20, kde = True) # Create a histogram based on county enrollment"
   ]
  },
  {
   "cell_type": "code",
   "execution_count": 19,
   "id": "af11243b-3c32-4dd9-85d3-90161dd24ac8",
   "metadata": {},
   "outputs": [],
   "source": [
    "# Create categories\n",
    "\n",
    "numeric_record_c.loc[numeric_record_c['enroll12'] <= 2000, 'Enroll Category'] = 'Low enrollment'\n",
    "numeric_record_c.loc[(numeric_record_c['enroll12'] > 2000) & (numeric_record_c['enroll12'] <= 6000), 'Enroll Category'] = 'Average enrollment'\n",
    "numeric_record_c.loc[numeric_record_c['enroll12'] > 6000, 'Enroll Category'] = 'High enrollment'"
   ]
  },
  {
   "cell_type": "code",
   "execution_count": 20,
   "id": "3e3322dc-fbea-4f23-8bfa-76d856a0691f",
   "metadata": {},
   "outputs": [
    {
     "data": {
      "text/plain": [
       "Enroll Category\n",
       "Low enrollment        22\n",
       "Average enrollment    18\n",
       "High enrollment        7\n",
       "Name: count, dtype: int64"
      ]
     },
     "execution_count": 20,
     "metadata": {},
     "output_type": "execute_result"
    }
   ],
   "source": [
    "numeric_record_c['Enroll Category'].value_counts(dropna = False)"
   ]
  },
  {
   "cell_type": "code",
   "execution_count": 21,
   "id": "ecce5ef9-f07e-4b10-a44e-47be5984f67a",
   "metadata": {},
   "outputs": [
    {
     "data": {
      "text/plain": [
       "Index(['Unnamed: 0', 'enroll12', 'test_takers', 'avg_scr_read', 'avg_scr_math',\n",
       "       'avg_scr_writ', 'scr>1500', 'Enroll Category'],\n",
       "      dtype='object')"
      ]
     },
     "execution_count": 21,
     "metadata": {},
     "output_type": "execute_result"
    }
   ],
   "source": [
    "numeric_record_c.columns"
   ]
  },
  {
   "cell_type": "code",
   "execution_count": 22,
   "id": "46471dae-f18d-40a1-898d-3f2a7a2dfa82",
   "metadata": {},
   "outputs": [
    {
     "data": {
      "text/plain": [
       "(47, 8)"
      ]
     },
     "execution_count": 22,
     "metadata": {},
     "output_type": "execute_result"
    }
   ],
   "source": [
    "numeric_record_c.shape"
   ]
  },
  {
   "cell_type": "code",
   "execution_count": 23,
   "id": "faa298d1-5d3a-4644-a64d-15bc748990f2",
   "metadata": {},
   "outputs": [
    {
     "data": {
      "image/png": "[encoded data removed]",
      "text/plain": [
       "<Figure size 687.5x500 with 1 Axes>"
      ]
     },
     "metadata": {},
     "output_type": "display_data"
    }
   ],
   "source": [
    "# Create a categorical plot in seaborn using the enrollment categories \n",
    "\n",
    "sns.set(style=\"ticks\")\n",
    "county_cat_plot = sns.catplot(x=\"enroll12\", y=\"test_takers\", hue=\"Enroll Category\", data=numeric_record_c)\n",
    "# Move the legend\n",
    "county_cat_plot._legend.set_bbox_to_anchor((1,.5)) # Move legend to the right\n",
    "ax = plt.gca()\n",
    "n = 5  \n",
    "ax.set_xticks(ax.get_xticks()[::n])\n",
    "plt.xticks(fontsize=8)\n",
    "plt.subplots_adjust(bottom=0.2)\n",
    "plt.show()"
   ]
  },
  {
   "cell_type": "markdown",
   "id": "39c7376b-05bb-4eb6-a546-75ca018f9869",
   "metadata": {},
   "source": [
    "##### Observations: \n",
    "1. More schools with low enrollment\n",
    "2. Low enrollment has fewest test takers at county level as well\n",
    "3. Few high enrollment schools at the county level\n",
    "4. High enrollment schools have highest number of test takers"
   ]
  },
  {
   "cell_type": "markdown",
   "id": "823a0589-97fa-4e86-aba6-50d6730e825e",
   "metadata": {},
   "source": [
    "##### Hypotheses:\n",
    "1. If schools have a higher enrollment, then a higher percentage of students take the SAT\n",
    "2. If schools have higher enrollment, then SAT scores are lower\n",
    "3. If the percentage of test takers is high, then SAT scores are higher"
   ]
  },
  {
   "cell_type": "markdown",
   "id": "26950cef-57a0-4876-b201-a5b3f9325425",
   "metadata": {},
   "source": [
    "### 3. Summary"
   ]
  },
  {
   "cell_type": "markdown",
   "id": "a72c2421-dba1-44ab-9b03-a87d57919b05",
   "metadata": {},
   "source": [
    "df_county (47, 14)\n",
    "\n",
    "cds_code, school, district >> int to str\n",
    "\n",
    "numeric_record_c (47, 6)"
   ]
  },
  {
   "cell_type": "markdown",
   "id": "6134e5ed-42d5-43ee-9b6a-f7361b9bfb68",
   "metadata": {},
   "source": [
    "### 4. Export"
   ]
  },
  {
   "cell_type": "code",
   "execution_count": 24,
   "id": "cf1a2840-6d24-4089-8692-f925db95cc0e",
   "metadata": {},
   "outputs": [],
   "source": [
    "#Export df\n",
    "\n",
    "df_county.to_csv(os.path.join(path, 'Data','Prepared Data', 'SAT_Report_County 2.csv'))"
   ]
  },
  {
   "cell_type": "code",
   "execution_count": 26,
   "id": "21db97c1-060f-4916-b05d-eed6670e7f75",
   "metadata": {},
   "outputs": [],
   "source": [
    "#Export plots\n",
    "\n",
    "county_histogram.figure.savefig(os.path.join(path, 'Analysis', 'Visualizations', 'county_histogram.png'))\n",
    "county_cat_plot.figure.savefig(os.path.join(path, 'Analysis', 'Visualizations', 'county_catplot.png'))"
   ]
  }
 ],
 "metadata": {
  "kernelspec": {
   "display_name": "Python 3 (ipykernel)",
   "language": "python",
   "name": "python3"
  },
  "language_info": {
   "codemirror_mode": {
    "name": "ipython",
    "version": 3
   },
   "file_extension": ".py",
   "mimetype": "text/x-python",
   "name": "python",
   "nbconvert_exporter": "python",
   "pygments_lexer": "ipython3",
   "version": "3.12.3"
  }
 },
 "nbformat": 4,
 "nbformat_minor": 5
}
